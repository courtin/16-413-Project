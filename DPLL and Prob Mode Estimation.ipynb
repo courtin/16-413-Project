{
 "cells": [
  {
   "cell_type": "code",
   "execution_count": 6,
   "metadata": {},
   "outputs": [],
   "source": [
    "#Python3(3.6) Notebook\n",
    "# Please begin by running this cell\n",
    "from classes import *"
   ]
  },
  {
   "cell_type": "code",
   "execution_count": null,
   "metadata": {},
   "outputs": [],
   "source": []
  },
  {
   "cell_type": "markdown",
   "metadata": {},
   "source": [
    "## DPLL \n",
    "\n",
    "The DPLL algorithm works as follows:\n",
    "\n",
    "First, an initial unit propagation.\n",
    "\n",
    "Then, repeatedly: \n",
    "1. Assign value to unassigned proposition\n",
    "2. Unit propagate \n",
    "3. Backtrack whenever clause is violated\n",
    "4. If complete assignment, satisfiable. \n",
    "\n",
    "\n",
    "Unit propagation assigns values to propositions that need to equal a certain value in order for the clause to satisfy. \n",
    "\n",
    "The below tree visualization shows a branch where \n",
    "\n",
    "\n",
    "Create trees via unassigned variables.  Visualization for the growth of the trees.  This builds on the unit propagation code; it takes in a sentence in CNF and returns a valid model of that sentence."
   ]
  },
  {
   "cell_type": "code",
   "execution_count": 7,
   "metadata": {},
   "outputs": [
    {
     "name": "stdout",
     "output_type": "stream",
     "text": [
      "(X & (Y | Z))\n"
     ]
    }
   ],
   "source": [
    "formula = to_cnf(\"( X & ( Y | Z ) )\") \n",
    "print(formula)"
   ]
  },
  {
   "cell_type": "markdown",
   "metadata": {},
   "source": [
    "Notice how there is an unassigned clause but that unit propagation can not proceed. The next step is to arbitrarily assign one of the variables, keeping the record as a support, and proceed to see whether we have a model."
   ]
  },
  {
   "cell_type": "code",
   "execution_count": 8,
   "metadata": {},
   "outputs": [
    {
     "name": "stdout",
     "output_type": "stream",
     "text": [
      "(X & (Y | Z))\n",
      "True variables: X\n"
     ]
    }
   ],
   "source": [
    "\n",
    "formula = to_cnf(\"( X & ( Y | Z ) )\") \n",
    "print(formula)\n",
    "(clauses, true_variables) = unit_propagation(str(formula))\n",
    "print(\"True variables: \" + \", \".join([str(variable) for variable in true_variables]))"
   ]
  },
  {
   "cell_type": "code",
   "execution_count": 10,
   "metadata": {},
   "outputs": [
    {
     "name": "stdout",
     "output_type": "stream",
     "text": [
      "( ( Y | Z ) & ( ~Z | X ) & ( Y ) )\n",
      "( ( Y | Z ) & ( ~Z | X ) & ( Y ) )\n",
      "( ( Y = False | Z ) & ( ~Z | X ) & ( Y = False ) )\n"
     ]
    },
    {
     "ename": "SyntaxError",
     "evalue": "invalid syntax (<string>, line 1)",
     "output_type": "error",
     "traceback": [
      "Traceback \u001b[0;36m(most recent call last)\u001b[0m:\n",
      "  File \u001b[1;32m\"/Library/Frameworks/Python.framework/Versions/3.6/lib/python3.6/site-packages/IPython/core/interactiveshell.py\"\u001b[0m, line \u001b[1;32m3267\u001b[0m, in \u001b[1;35mrun_code\u001b[0m\n    exec(code_obj, self.user_global_ns, self.user_ns)\n",
      "  File \u001b[1;32m\"<ipython-input-10-5d54bce0185f>\"\u001b[0m, line \u001b[1;32m15\u001b[0m, in \u001b[1;35m<module>\u001b[0m\n    formula.unit_propagate_chris()\n",
      "  File \u001b[1;32m\"/Users/alist/Documents/MIT/Classes/Fall 2018/16.413/final-project/16-413-Project/classes.py\"\u001b[0m, line \u001b[1;32m112\u001b[0m, in \u001b[1;35munit_propagate_chris\u001b[0m\n    (clauses, true_exps) = unit_propagation(string)\n",
      "  File \u001b[1;32m\"/Users/alist/Documents/MIT/Classes/Fall 2018/16.413/final-project/16-413-Project/project_library.py\"\u001b[0m, line \u001b[1;32m39\u001b[0m, in \u001b[1;35munit_propagation\u001b[0m\n    clauses = check_input(s)\n",
      "  File \u001b[1;32m\"/Users/alist/Documents/MIT/Classes/Fall 2018/16.413/final-project/16-413-Project/project_library.py\"\u001b[0m, line \u001b[1;32m24\u001b[0m, in \u001b[1;35mcheck_input\u001b[0m\n    return sentance_to_clauses(s)  # If the input is an arbitrary sentance, convert to cnf\n",
      "  File \u001b[1;32m\"/Users/alist/Documents/MIT/Classes/Fall 2018/16.413/final-project/16-413-Project/project_library.py\"\u001b[0m, line \u001b[1;32m17\u001b[0m, in \u001b[1;35msentance_to_clauses\u001b[0m\n    s_cnf = to_cnf(s)  # Put sentance into CNF\n",
      "  File \u001b[1;32m\"/Users/alist/Documents/MIT/Classes/Fall 2018/16.413/final-project/16-413-Project/logic.py\"\u001b[0m, line \u001b[1;32m162\u001b[0m, in \u001b[1;35mto_cnf\u001b[0m\n    if isinstance(s, str): s = expr(s)\n",
      "\u001b[0;36m  File \u001b[0;32m\"/Users/alist/Documents/MIT/Classes/Fall 2018/16.413/final-project/16-413-Project/logic.py\"\u001b[0;36m, line \u001b[0;32m130\u001b[0;36m, in \u001b[0;35mexpr\u001b[0;36m\u001b[0m\n\u001b[0;31m    return eval(s, {'Expr':Expr})\u001b[0m\n",
      "\u001b[0;36m  File \u001b[0;32m\"<string>\"\u001b[0;36m, line \u001b[0;32m1\u001b[0m\n\u001b[0;31m    ( ( Expr(\"Y\") = Expr(\"False\") | Expr(\"Z\") ) & ( ~Expr(\"Z\") | Expr(\"X\") ) & ( Expr(\"Y\") = Expr(\"False\") ) )&~Expr(\"Y\")\u001b[0m\n\u001b[0m                  ^\u001b[0m\n\u001b[0;31mSyntaxError\u001b[0m\u001b[0;31m:\u001b[0m invalid syntax\n"
     ]
    }
   ],
   "source": [
    "def assign_next(formula):\n",
    "    for or_clause in formula.clauses:\n",
    "        for literal in or_clause.literals:\n",
    "            if literal.assignment is None:\n",
    "                literal.assign(False)\n",
    "                return \n",
    "            \n",
    "formula = AND.from_string_to_cnf(\"(Y | Z) & (~Z | X) & Y\")\n",
    "print(formula)\n",
    "print(formula.cnf_string())\n",
    "\n",
    "assign_next(formula)\n",
    "print(formula)\n",
    "\n",
    "formula.unit_propagate_chris()\n",
    "print(formula)"
   ]
  },
  {
   "cell_type": "markdown",
   "metadata": {},
   "source": [
    "On the other hand, see what happens when you need to backtrack!"
   ]
  },
  {
   "cell_type": "code",
   "execution_count": null,
   "metadata": {},
   "outputs": [],
   "source": [
    "Y = L(\"Y\")\n",
    "Z = L(\"Z\")\n",
    "formula = AND(OR(L(\"X\", True)), OR(Y, Z), OR(Y, NOT(Z)))"
   ]
  },
  {
   "cell_type": "markdown",
   "metadata": {},
   "source": [
    "### Note on determining conflcits\n",
    "\n",
    "Determining a minimal set of componenents involved in a conflict is, in general, NP-hard. Heuristics are often used, for instance in circuits, upstream components is often one heuristic. All components in the system is another (less useful) heuristic. Probabilistic mode estimation uses conflicts in order to generate the best possible guess about the health of all the components, if conflicts aren't particularly minimal (in the worst case, if they involve all components) Probabilistic Mode Estimation will only enumerate the failure space in a-priori failure probability order. So, it's not wrong to poorly minimize conflicts, it just makes probabilistic mode estimation perform poorly.   "
   ]
  },
  {
   "cell_type": "markdown",
   "metadata": {},
   "source": [
    "## Probabilistic Mode Estimation\n",
    "\n",
    "Probabalistic Mode Estimation or Mode Identification utilizing probabilistic inference's goal is to determine the state of the components in the system. \n",
    "\n",
    "One option, as always, is that all the components are operating correctly, but when there are discrepencies, heursitics can yield sets of components that could be at fault in the system. Mode Estimation then will give a probabilistically ordered list of configurations that your system could be in, instead. \n",
    "\n",
    "One way to perform this operation is constraint-based A*. \n",
    "\n",
    "The below tree visualization shows how the conflicts act to trim the search tree from paths that don't contain at least one of the conflicts. At each level of the tree is a decision to assign one of the components.\n",
    "\n",
    "**Trim paths whose unknowns aren't present in at least one of the conflicts, or aren't present in all of the conflicts? That would depend on the means of generating conflicts. You might need to pre-process with a kernel diagnoses tool if you want to put more than one conflict through, though if it's _Trim paths whose unknowns aren't present in at least one of the conflicts_, you're probably fine and save computation time anyway.** _That said, each mode identification should include all the components that could be failed, so you'd want every conflict to be represented by one of the components marked failed in the identifcation, and trim once it became clear your choice of components wasn't going to satisfy one of the constraints (remaining assignments not in conflicts)._\n",
    "\n",
    "The output of probabilistic mode estimation is a enumerable set of component assignments. "
   ]
  },
  {
   "cell_type": "code",
   "execution_count": null,
   "metadata": {},
   "outputs": [],
   "source": [
    "# Inputs: probabilities: Prior probabilities of component failures\n",
    "#         conflicts: Heuristic-determined set of components that are connected to model-inconsistency\n",
    "# Procedure: Perform constraint-based A*"
   ]
  }
 ],
 "metadata": {
  "kernelspec": {
   "display_name": "Python 3",
   "language": "python",
   "name": "python3"
  },
  "language_info": {
   "codemirror_mode": {
    "name": "ipython",
    "version": 3
   },
   "file_extension": ".py",
   "mimetype": "text/x-python",
   "name": "python",
   "nbconvert_exporter": "python",
   "pygments_lexer": "ipython3",
   "version": "3.6.3"
  }
 },
 "nbformat": 4,
 "nbformat_minor": 2
}
