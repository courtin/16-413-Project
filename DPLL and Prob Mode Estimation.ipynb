{
 "cells": [
  {
   "cell_type": "code",
   "execution_count": 1,
   "metadata": {},
   "outputs": [],
   "source": [
    "#Python3(3.6) Notebook\n",
    "# Please begin by running this cell\n",
    "from classes import *"
   ]
  },
  {
   "cell_type": "code",
   "execution_count": 2,
   "metadata": {},
   "outputs": [],
   "source": [
    "from utils import *\n",
    "from logic import *\n",
    "from copy  import *\n",
    "def make_sentance(clauses):\n",
    "        s = \"\"\n",
    "        for c in clauses:\n",
    "            if s == \"\":\n",
    "                s = \"(\"+c+\")\"\n",
    "            else:        \n",
    "                s += \"&(\"+c+\")\"\n",
    "        return s\n",
    "\n",
    "def sentance_to_clauses(s):\n",
    "    s_cnf = to_cnf(s) #Put sentance into CNF\n",
    "    clauses = conjuncts(s_cnf) #Split CNF sentance into a list of clauses\n",
    "    return clauses\n",
    "\n",
    "def check_input(s):\n",
    "    if isinstance(s,str):#Check input formatting\n",
    "        return sentance_to_clauses(s)#If the input is an arbitrary sentance, convert to cnf\n",
    "    elif isinstance(s,list):#If the input is a list\n",
    "        if(isinstance(s[0], str)): #If it's a list of strings\n",
    "            s = make_sentance(s) #make it a sentance \n",
    "            return sentance_to_clauses(s)\n",
    "        else:\n",
    "            #Assume list is of clauses in CNF\n",
    "            return s\n",
    "    else:\n",
    "        print(\"Bad input\")\n",
    "        \n",
    "def unit_propagation(s):\n",
    "    #This implementation of unit propagation works but doesn't record support for each clause; will update\n",
    "    \n",
    "    clauses = check_input(s)\n",
    "    \n",
    "    repeat = True\n",
    "    false_exp = [] #List of literals known to be false\n",
    "    true_exp = [] #List of literals known to be true (inverse of false_exp, created here for convenience)\n",
    "    while repeat: #Repeat the unit propagation steps until the clauses can't be reduced further\n",
    "        repeat = False\n",
    "        for c in clauses: #For each clause in the sentance\n",
    "            if len(c.args) <= 1 and len(clauses) > 0: #Check if the clause contains a single literal/the list isn't empty\n",
    "                cc = copy(c) #Create a copy of that literal\n",
    "                if cc not in true_exp: #Check that the literal hasn't already been saved\n",
    "                    true_exp.append(cc) #Add that literal to the list of true literals\n",
    "                    false_exp.append(to_cnf(~cc)) #Add the negation of that literal to the list of false literals\n",
    "                    repeat = True #Repeat the entire loop; since a new literal has been proven we may be able to \n",
    "                                  #propagate more\n",
    "                \n",
    "        for e in true_exp: #For every literal we know to be true...\n",
    "            if e in clauses: clauses.remove(e) #Remove that literal from clauses where it appears. \n",
    "            \n",
    "        for c in clauses: #For each clause in the sentance \n",
    "            for fe in false_exp: #For each literal we know to be false\n",
    "                if fe in copy(c.args): #If that literal is in the clause \n",
    "                    if c.op != \"~\": #(Syntatic check)\n",
    "                        c.args.remove(fe) #Remove that literal from the clause\n",
    "        clauses = trim_or(clauses) #Clean up syntax\n",
    "    return clauses, true_exp\n"
   ]
  },
  {
   "cell_type": "markdown",
   "metadata": {},
   "source": [
    "## DPLL \n",
    "\n",
    "The DPLL algorithm works as follows:\n",
    "\n",
    "First, an initial unit propagation.\n",
    "\n",
    "Then, repeatedly: \n",
    "1. Assign value to unassigned proposition\n",
    "2. Unit propagate \n",
    "3. Backtrack whenever clause is violated\n",
    "4. If complete assignment, satisfiable. \n",
    "\n",
    "\n",
    "Unit propagation assigns values to propositions that need to equal a certain value in order for the clause to satisfy. \n",
    "\n",
    "The below tree visualization shows a branch where \n",
    "\n",
    "\n",
    "Create trees via unassigned variables.  Visualization for the growth of the trees.  This builds on the unit propagation code; it takes in a sentence in CNF and returns a valid model of that sentence."
   ]
  },
  {
   "cell_type": "code",
   "execution_count": 7,
   "metadata": {},
   "outputs": [
    {
     "name": "stdout",
     "output_type": "stream",
     "text": [
      "(X & (Y | Z))\n"
     ]
    }
   ],
   "source": [
    "formula = to_cnf(\"( X & ( Y | Z ) )\") \n",
    "print(formula)"
   ]
  },
  {
   "cell_type": "markdown",
   "metadata": {},
   "source": [
    "Notice how there is an unassigned clause but that unit propagation can not proceed. The next step is to arbitrarily assign one of the variables, keeping the record as a support, and proceed to see whether we have a model."
   ]
  },
  {
   "cell_type": "code",
   "execution_count": 2,
   "metadata": {},
   "outputs": [
    {
     "name": "stdout",
     "output_type": "stream",
     "text": [
      "(X & (Y | Z))\n"
     ]
    },
    {
     "ename": "NameError",
     "evalue": "name 'unit_propagation' is not defined",
     "output_type": "error",
     "traceback": [
      "\u001b[0;31m---------------------------------------------------------------------------\u001b[0m",
      "\u001b[0;31mNameError\u001b[0m                                 Traceback (most recent call last)",
      "\u001b[0;32m<ipython-input-2-a2767531ca1b>\u001b[0m in \u001b[0;36m<module>\u001b[0;34m\u001b[0m\n\u001b[1;32m      7\u001b[0m \u001b[0mformula\u001b[0m \u001b[0;34m=\u001b[0m \u001b[0mto_cnf\u001b[0m\u001b[0;34m(\u001b[0m\u001b[0;34m\"( X & ( Y | Z ) )\"\u001b[0m\u001b[0;34m)\u001b[0m\u001b[0;34m\u001b[0m\u001b[0m\n\u001b[1;32m      8\u001b[0m \u001b[0mprint\u001b[0m\u001b[0;34m(\u001b[0m\u001b[0mformula\u001b[0m\u001b[0;34m)\u001b[0m\u001b[0;34m\u001b[0m\u001b[0m\n\u001b[0;32m----> 9\u001b[0;31m \u001b[0;34m(\u001b[0m\u001b[0mclauses\u001b[0m\u001b[0;34m,\u001b[0m \u001b[0mtrue_variables\u001b[0m\u001b[0;34m)\u001b[0m \u001b[0;34m=\u001b[0m \u001b[0munit_propagation\u001b[0m\u001b[0;34m(\u001b[0m\u001b[0mstr\u001b[0m\u001b[0;34m(\u001b[0m\u001b[0mformula\u001b[0m\u001b[0;34m)\u001b[0m\u001b[0;34m)\u001b[0m\u001b[0;34m\u001b[0m\u001b[0m\n\u001b[0m\u001b[1;32m     10\u001b[0m \u001b[0mprint\u001b[0m\u001b[0;34m(\u001b[0m\u001b[0;34m\"True variables: \"\u001b[0m \u001b[0;34m+\u001b[0m \u001b[0;34m\", \"\u001b[0m\u001b[0;34m.\u001b[0m\u001b[0mjoin\u001b[0m\u001b[0;34m(\u001b[0m\u001b[0;34m[\u001b[0m\u001b[0mstr\u001b[0m\u001b[0;34m(\u001b[0m\u001b[0mvariable\u001b[0m\u001b[0;34m)\u001b[0m \u001b[0;32mfor\u001b[0m \u001b[0mvariable\u001b[0m \u001b[0;32min\u001b[0m \u001b[0mtrue_variables\u001b[0m\u001b[0;34m]\u001b[0m\u001b[0;34m)\u001b[0m\u001b[0;34m)\u001b[0m\u001b[0;34m\u001b[0m\u001b[0m\n",
      "\u001b[0;31mNameError\u001b[0m: name 'unit_propagation' is not defined"
     ]
    }
   ],
   "source": [
    "# takes clauses from CNF \n",
    "def get_all_variables(clauses):\n",
    "    and_op_const = \"&\"\n",
    "    or_op_const = \"|\"\n",
    "    not_op_const = \"~\"\n",
    "\n",
    "formula = to_cnf(\"( X & ( Y | Z ) )\") \n",
    "print(formula)\n",
    "(clauses, true_variables) = unit_propagation(str(formula))\n",
    "print(\"True variables: \" + \", \".join([str(variable) for variable in true_variables]))"
   ]
  },
  {
   "cell_type": "code",
   "execution_count": 3,
   "metadata": {},
   "outputs": [
    {
     "ename": "AttributeError",
     "evalue": "can't set attribute",
     "output_type": "error",
     "traceback": [
      "\u001b[0;31m---------------------------------------------------------------------------\u001b[0m",
      "\u001b[0;31mAttributeError\u001b[0m                            Traceback (most recent call last)",
      "\u001b[0;32m<ipython-input-3-eec8f0a24d9e>\u001b[0m in \u001b[0;36m<module>\u001b[0;34m\u001b[0m\n\u001b[1;32m     17\u001b[0m \u001b[0;34m\u001b[0m\u001b[0m\n\u001b[1;32m     18\u001b[0m \u001b[0mformula\u001b[0m \u001b[0;34m=\u001b[0m \u001b[0mAND\u001b[0m\u001b[0;34m.\u001b[0m\u001b[0mfrom_string_to_cnf\u001b[0m\u001b[0;34m(\u001b[0m\u001b[0;34m\"(X) & (Y | Z)\"\u001b[0m\u001b[0;34m)\u001b[0m\u001b[0;34m\u001b[0m\u001b[0m\n\u001b[0;32m---> 19\u001b[0;31m \u001b[0munit_propagate\u001b[0m\u001b[0;34m(\u001b[0m\u001b[0mformula\u001b[0m\u001b[0;34m)\u001b[0m\u001b[0;34m\u001b[0m\u001b[0m\n\u001b[0m\u001b[1;32m     20\u001b[0m \u001b[0mprint\u001b[0m\u001b[0;34m(\u001b[0m\u001b[0mformula\u001b[0m\u001b[0;34m)\u001b[0m\u001b[0;34m\u001b[0m\u001b[0m\n\u001b[1;32m     21\u001b[0m \u001b[0;34m\u001b[0m\u001b[0m\n",
      "\u001b[0;32m<ipython-input-3-eec8f0a24d9e>\u001b[0m in \u001b[0;36munit_propagate\u001b[0;34m(formula)\u001b[0m\n\u001b[1;32m      6\u001b[0m         \u001b[0;32mif\u001b[0m \u001b[0mlen\u001b[0m\u001b[0;34m(\u001b[0m\u001b[0munassigned\u001b[0m\u001b[0;34m)\u001b[0m \u001b[0;34m>=\u001b[0m \u001b[0;36m2\u001b[0m \u001b[0;32mor\u001b[0m \u001b[0mlen\u001b[0m\u001b[0;34m(\u001b[0m\u001b[0munassigned\u001b[0m\u001b[0;34m)\u001b[0m \u001b[0;34m==\u001b[0m \u001b[0;36m0\u001b[0m\u001b[0;34m:\u001b[0m\u001b[0;34m\u001b[0m\u001b[0m\n\u001b[1;32m      7\u001b[0m             \u001b[0;32mcontinue\u001b[0m\u001b[0;34m\u001b[0m\u001b[0m\n\u001b[0;32m----> 8\u001b[0;31m         \u001b[0munassigned\u001b[0m\u001b[0;34m[\u001b[0m\u001b[0;36m0\u001b[0m\u001b[0;34m]\u001b[0m\u001b[0;34m.\u001b[0m\u001b[0massignment\u001b[0m \u001b[0;34m=\u001b[0m \u001b[0;32mTrue\u001b[0m\u001b[0;34m\u001b[0m\u001b[0m\n\u001b[0m\u001b[1;32m      9\u001b[0m         \u001b[0;32mreturn\u001b[0m\u001b[0;34m\u001b[0m\u001b[0m\n\u001b[1;32m     10\u001b[0m \u001b[0;34m\u001b[0m\u001b[0m\n",
      "\u001b[0;31mAttributeError\u001b[0m: can't set attribute"
     ]
    }
   ],
   "source": [
    "def unit_propagate(formula):\n",
    "    for or_clause in formula.clauses:\n",
    "        if len([literal for literal in or_clause.literals if literal.assignment is True]) > 0:\n",
    "            continue\n",
    "        unassigned = [literal for literal in or_clause.literals if literal.assignment is None]\n",
    "        if len(unassigned) >= 2 or len(unassigned) == 0:\n",
    "            continue \n",
    "        unassigned[0].assign(True)\n",
    "        return\n",
    "    \n",
    "def assign_next(formula):\n",
    "    for or_clause in formula.clauses:\n",
    "        for literal in or_clause.literals:\n",
    "            if literal.assignment is None:\n",
    "                literal.assign(False)\n",
    "                return \n",
    "            \n",
    "formula = AND.from_string_to_cnf(\"(X) & (Y | Z)\")\n",
    "unit_propagate(formula)\n",
    "print(formula)\n",
    "\n",
    "assign_next(formula)\n",
    "print(formula)\n",
    "\n",
    "unit_propagate(formula)\n",
    "print(formula)"
   ]
  },
  {
   "cell_type": "markdown",
   "metadata": {},
   "source": [
    "On the other hand, see what happens when you need to backtrack!"
   ]
  },
  {
   "cell_type": "code",
   "execution_count": 4,
   "metadata": {},
   "outputs": [],
   "source": [
    "Y = L(\"Y\")\n",
    "Z = L(\"Z\")\n",
    "formula = AND(OR(L(\"X\", True)), OR(Y, Z), OR(Y, NOT(Z)))"
   ]
  },
  {
   "cell_type": "markdown",
   "metadata": {},
   "source": [
    "### Note on determining conflcits\n",
    "\n",
    "Determining a minimal set of componenents involved in a conflict is, in general, NP-hard. Heuristics are often used, for instance in circuits, upstream components is often one heuristic. All components in the system is another (less useful) heuristic. Probabilistic mode estimation uses conflicts in order to generate the best possible guess about the health of all the components, if conflicts aren't particularly minimal (in the worst case, if they involve all components) Probabilistic Mode Estimation will only enumerate the failure space in a-priori failure probability order. So, it's not wrong to poorly minimize conflicts, it just makes probabilistic mode estimation perform poorly.   "
   ]
  },
  {
   "cell_type": "markdown",
   "metadata": {},
   "source": [
    "## Probabilistic Mode Estimation\n",
    "\n",
    "Probabalistic Mode Estimation or Mode Identification utilizing probabilistic inference's goal is to determine the state of the components in the system. \n",
    "\n",
    "One option, as always, is that all the components are operating correctly, but when there are discrepencies, heursitics can yield sets of components that could be at fault in the system. Mode Estimation then will give a probabilistically ordered list of configurations that your system could be in, instead. \n",
    "\n",
    "One way to perform this operation is constraint-based A*. \n",
    "\n",
    "The below tree visualization shows how the conflicts act to trim the search tree from paths that don't contain at least one of the conflicts. At each level of the tree is a decision to assign one of the components.\n",
    "\n",
    "**Trim paths whose unknowns aren't present in at least one of the conflicts, or aren't present in all of the conflicts? That would depend on the means of generating conflicts. You might need to pre-process with a kernel diagnoses tool if you want to put more than one conflict through, though if it's _Trim paths whose unknowns aren't present in at least one of the conflicts_, you're probably fine and save computation time anyway.** _That said, each mode identification should include all the components that could be failed, so you'd want every conflict to be represented by one of the components marked failed in the identifcation, and trim once it became clear your choice of components wasn't going to satisfy one of the constraints (remaining assignments not in conflicts)._\n",
    "\n",
    "The output of probabilistic mode estimation is a enumerable set of component assignments. "
   ]
  },
  {
   "cell_type": "code",
   "execution_count": null,
   "metadata": {},
   "outputs": [],
   "source": [
    "# Inputs: probabilities: Prior probabilities of component failures\n",
    "#         conflicts: Heuristic-determined set of components that are connected to model-inconsistency\n",
    "# Procedure: Perform constraint-based A*"
   ]
  }
 ],
 "metadata": {
  "kernelspec": {
   "display_name": "Python 3",
   "language": "python",
   "name": "python3"
  },
  "language_info": {
   "codemirror_mode": {
    "name": "ipython",
    "version": 3
   },
   "file_extension": ".py",
   "mimetype": "text/x-python",
   "name": "python",
   "nbconvert_exporter": "python",
   "pygments_lexer": "ipython3",
   "version": "3.6.3"
  }
 },
 "nbformat": 4,
 "nbformat_minor": 2
}
