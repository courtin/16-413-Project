{
 "cells": [
  {
   "cell_type": "code",
   "execution_count": null,
   "metadata": {},
   "outputs": [],
   "source": [
    "#Python3(3.6) Notebook\n",
    "# Please begin by running this cell\n",
    "from classes import *"
   ]
  },
  {
   "cell_type": "markdown",
   "metadata": {},
   "source": [
    "## DPLL \n",
    "\n",
    "The DPLL algorithm works as follows:\n",
    "\n",
    "First, an initial unit propagation.\n",
    "\n",
    "Then, repeatedly: \n",
    "1. Assign value to unassigned proposition\n",
    "2. Unit propagate \n",
    "3. Backtrack whenever clause is violated\n",
    "4. If complete assignment, satisfiable. \n",
    "\n",
    "\n",
    "Unit propagation assigns values to propositions that need to equal a certain value in order for the clause to satisfy. \n",
    "\n",
    "The below tree visualization shows a branch where \n",
    "\n",
    "\n",
    "Create trees via unassigned variables.  Visualization for the growth of the trees.  This builds on the unit propagation code; it takes in a sentence in CNF and returns a valid model of that sentence."
   ]
  },
  {
   "cell_type": "code",
   "execution_count": null,
   "metadata": {},
   "outputs": [],
   "source": [
    "formula = AND.from_string_to_cnf(\"( X & ( Y | Z ) )\") \n",
    "formula.unit_propagate().print()"
   ]
  },
  {
   "cell_type": "markdown",
   "metadata": {},
   "source": [
    "Notice how there is an unassigned clause but that unit propagation can not proceed. The next step is to arbitrarily assign one of the variables, keeping the record as a support, and proceed to see whether we have a model."
   ]
  },
  {
   "cell_type": "code",
   "execution_count": null,
   "metadata": {},
   "outputs": [],
   "source": [
    "def assign_next(formula):\n",
    "    for or_clause in formula:\n",
    "        for literal in or_clause:\n",
    "            if literal.assignment is None:\n",
    "                literal.assign(False)\n",
    "                return formula\n",
    "\n",
    "formula = AND.from_string_to_cnf(\"(Y | Z) & (Z | X)\")\n",
    "formula.literals_by_name[\"Y\"].assign(True)\n",
    "formula.unit_propagate().print()\n",
    "\n",
    "print(\"here you can see unit propagation has no where to continue...\")\n",
    "print(\"Instead we perform a DPLL step.\")\n",
    "\n",
    "assign_next(formula).print()\n",
    "\n",
    "formula.unit_propagate().print()\n",
    "print(\"And unit propagation can finish the job!\")"
   ]
  },
  {
   "cell_type": "markdown",
   "metadata": {},
   "source": [
    "On the other hand, see what happens when you need to backtrack!"
   ]
  },
  {
   "cell_type": "code",
   "execution_count": null,
   "metadata": {},
   "outputs": [],
   "source": [
    "formula = AND.from_string_to_cnf(\" X & (Y | Z) & (Y | ~Z)\") \n",
    "formula.unit_propagate().print()\n",
    "print(\"X is equal to True by unit propagation...\")\n",
    "assign_next(formula).print()\n",
    "print(\"Y is assigned False by guess... but watch what happens\")\n",
    "formula.unit_propagate().print()\n",
    "print(\"Unit propagation doesn't know any better, it's just been driven into a corner!\")"
   ]
  },
  {
   "cell_type": "markdown",
   "metadata": {},
   "source": [
    "We should have guessed **True** for Y! We need a way to back up and guess again!"
   ]
  },
  {
   "cell_type": "code",
   "execution_count": null,
   "metadata": {},
   "outputs": [],
   "source": [
    "class DPLL:\n",
    "    def __init__(self, formula):\n",
    "        self._formula = copy(formula)\n",
    "        self._formula.unit_propagate()\n",
    "        self._literal_assigned = None\n",
    "\n",
    "    def assign_next(self):\n",
    "        for literal in AND.get_literals(self._formula):\n",
    "            if literal.assignment is None:\n",
    "                self._literal_assigned = literal\n",
    "                literal.assign(False)\n",
    "\n",
    "    # returns False if already on second assignment\n",
    "    def try_other_assignment(self):\n",
    "        if self._literal_assigned is False:\n",
    "            self._literal_assigned.assign(True)\n",
    "            return True\n",
    "        elif self._literal_assigned is True:\n",
    "            return False\n",
    "\n",
    "    def solve(self, print_nicely=False):\n",
    "        if print_nicely: print(\"Working on.. \" + str(self._formula))\n",
    "        if self._formula.is_satisfied:\n",
    "            if print_nicely: print(\"It satisfies!\")\n",
    "            return self._formula\n",
    "\n",
    "        self.assign_next()\n",
    "        if print_nicely: print(\"Trying: \" + str(self._literal_assigned))\n",
    "        sub_solve = DPLL(self._formula).solve(print_nicely)\n",
    "        if sub_solve is None:\n",
    "            if print_nicely: print(\"Didn't work. Instead trying: \" + str(self._literal_assigned))\n",
    "            self.try_other_assignment()\n",
    "            sub_solve = DPLL(self._formula).solve(print_nicely)\n",
    "        if sub_solve is None:\n",
    "            if print_nicely: print(\"No assignments possible, backing up\")\n",
    "            return None\n",
    "\n",
    "        return sub_solve\n",
    "    \n",
    "formula = AND.from_string_to_cnf(\" X & (Y | Z) & (Y | ~Z)\")\n",
    "DPLL(formula).solve(print_nicely=True).print()"
   ]
  },
  {
   "cell_type": "markdown",
   "metadata": {},
   "source": [
    "### Note on determining conflcits\n",
    "\n",
    "Determining a minimal set of componenents involved in a conflict is, in general, NP-hard. Heuristics are often used, for instance in circuits, upstream components is often one heuristic. All components in the system is another (less useful) heuristic. Probabilistic mode estimation uses conflicts in order to generate the best possible guess about the health of all the components, if conflicts aren't particularly minimal (in the worst case, if they involve all components) Probabilistic Mode Estimation will only enumerate the failure space in a-priori failure probability order. So, it's not wrong to poorly minimize conflicts, it just makes probabilistic mode estimation perform poorly.   "
   ]
  },
  {
   "cell_type": "markdown",
   "metadata": {},
   "source": [
    "## Probabilistic Mode Estimation\n",
    "\n",
    "Probabalistic Mode Estimation or Mode Identification utilizing probabilistic inference's goal is to determine the state of the components in the system. \n",
    "\n",
    "One option, as always, is that all the components are operating correctly, but when there are discrepencies, heursitics can yield sets of components that could be at fault in the system. Mode Estimation then will give a probabilistically ordered list of configurations that your system could be in, instead. \n",
    "\n",
    "One way to perform this operation is constraint-based A*. \n",
    "\n",
    "The below tree visualization shows how the conflicts act to trim the search tree from paths that don't contain at least one of the conflicts. At each level of the tree is a decision to assign one of the components.\n",
    "\n",
    "**Trim paths whose unknowns aren't present in at least one of the conflicts, or aren't present in all of the conflicts? That would depend on the means of generating conflicts. You might need to pre-process with a kernel diagnoses tool if you want to put more than one conflict through, though if it's _Trim paths whose unknowns aren't present in at least one of the conflicts_, you're probably fine and save computation time anyway.** _That said, each mode identification should include all the components that could be failed, so you'd want every conflict to be represented by one of the components marked failed in the identifcation, and trim once it became clear your choice of components wasn't going to satisfy one of the constraints (remaining assignments not in conflicts)._\n",
    "\n",
    "The output of probabilistic mode estimation is a enumerable set of component assignments. "
   ]
  },
  {
   "cell_type": "code",
   "execution_count": null,
   "metadata": {},
   "outputs": [],
   "source": [
    "# Inputs: probabilities: Prior probabilities of component failures\n",
    "#         conflicts: Heuristic-determined set of components that are connected to model-inconsistency\n",
    "# Procedure: Perform constraint-based A*"
   ]
  }
 ],
 "metadata": {
  "kernelspec": {
   "display_name": "Python 3",
   "language": "python",
   "name": "python3"
  },
  "language_info": {
   "codemirror_mode": {
    "name": "ipython",
    "version": 3
   },
   "file_extension": ".py",
   "mimetype": "text/x-python",
   "name": "python",
   "nbconvert_exporter": "python",
   "pygments_lexer": "ipython3",
   "version": "3.6.3"
  }
 },
 "nbformat": 4,
 "nbformat_minor": 2
}
