{
 "cells": [
  {
   "cell_type": "markdown",
   "metadata": {},
   "source": [
    "# Logic and Model-Based Reasoning"
   ]
  },
  {
   "cell_type": "code",
   "execution_count": 133,
   "metadata": {},
   "outputs": [],
   "source": [
    "from utils import *\n",
    "from logic import *\n",
    "from copy  import *"
   ]
  },
  {
   "cell_type": "markdown",
   "metadata": {},
   "source": [
    "**Notes on Logic**\n",
    "\n",
    "Syntax:\n",
    "\n",
    "Logical **not** (negation): $\\neg$, ~\n",
    "\n",
    "Logical **and** (conjunction): $\\wedge$, &\n",
    "\n",
    "Logical **or** (disjunction): $\\vee$, |\n",
    "\n",
    "De Morgan’s Theorem\n",
    "\n",
    "$\\neg(A \\wedge B) => (\\neg A) \\vee (\\neg B)$\n",
    "\n",
    "$\\neg(A \\vee B) => (\\neg A) \\wedge (\\neg B)$\n",
    "\n",
    "..."
   ]
  },
  {
   "cell_type": "markdown",
   "metadata": {},
   "source": [
    "# ## Practice reducing sentances to CNF\n",
    "The cell below will reduce logical sentances to CNF.  This is useful to check practice problems.  The following syntax is used:\n",
    "\n",
    "Implies: ==>, >>\n",
    "\n",
    "IFF: <=>\n",
    "\n",
    "and: &\n",
    "\n",
    "not: ~\n",
    "\n",
    "or: |\n",
    "\n",
    "The flag SHOW_STEPS controls how much of the process is displayed. \n",
    "\n",
    "SHOW_STEPS = False - Output is only final answer\n",
    "\n",
    "SHOW_STEPS = True - Output shows each step in the reduction process"
   ]
  },
  {
   "cell_type": "code",
   "execution_count": 13,
   "metadata": {},
   "outputs": [
    {
     "data": {
      "text/plain": [
       "(B | ~A)"
      ]
     },
     "execution_count": 13,
     "metadata": {},
     "output_type": "execute_result"
    }
   ],
   "source": [
    "#Examples\n",
    "s = \"A==>B\"\n",
    "to_cnf(s)"
   ]
  },
  {
   "cell_type": "code",
   "execution_count": 14,
   "metadata": {},
   "outputs": [
    {
     "data": {
      "text/plain": [
       "((A | ~B) & (B | ~A))"
      ]
     },
     "execution_count": 14,
     "metadata": {},
     "output_type": "execute_result"
    }
   ],
   "source": [
    "s = \"A<=>B\"\n",
    "to_cnf(s)"
   ]
  },
  {
   "cell_type": "code",
   "execution_count": 15,
   "metadata": {},
   "outputs": [
    {
     "data": {
      "text/plain": [
       "((C | A) & (D | A) & (C | B) & (D | B))"
      ]
     },
     "execution_count": 15,
     "metadata": {},
     "output_type": "execute_result"
    }
   ],
   "source": [
    "s = \"(A&B)|(C&D)\"\n",
    "to_cnf(s)"
   ]
  },
  {
   "cell_type": "code",
   "execution_count": 16,
   "metadata": {},
   "outputs": [
    {
     "name": "stdout",
     "output_type": "stream",
     "text": [
      "Initial Expression:\n",
      "((A <=> B) & (B >> C))\n",
      "Eliminate Implications:\n",
      "(((A | ~B) & (B | ~A)) & (C | ~B))\n",
      "Distribution\n",
      "((A | ~B) & (B | ~A) & (C | ~B))\n"
     ]
    },
    {
     "data": {
      "text/plain": [
       "((A | ~B) & (B | ~A) & (C | ~B))"
      ]
     },
     "execution_count": 16,
     "metadata": {},
     "output_type": "execute_result"
    }
   ],
   "source": [
    "s = \"(A<=>B)&(B==>C)\"\n",
    "to_cnf(s, True)"
   ]
  },
  {
   "cell_type": "code",
   "execution_count": 17,
   "metadata": {},
   "outputs": [
    {
     "name": "stdout",
     "output_type": "stream",
     "text": [
      "Initial Expression:\n",
      "((A <=> B) | ~(D & C))\n",
      "Eliminate Implications:\n",
      "(((A | ~B) & (B | ~A)) | ~(D & C))\n",
      "De Morgan's Theorem:\n",
      "(((A | ~B) & (B | ~A)) | (~D | ~C))\n",
      "Distribution\n",
      "((A | ~B | ~D | ~C) & (B | ~A | ~D | ~C))\n"
     ]
    },
    {
     "data": {
      "text/plain": [
       "((A | ~B | ~D | ~C) & (B | ~A | ~D | ~C))"
      ]
     },
     "execution_count": 17,
     "metadata": {},
     "output_type": "execute_result"
    }
   ],
   "source": [
    "s = \"(A<=>B)|~(D&C)\"\n",
    "to_cnf(s, True)"
   ]
  },
  {
   "cell_type": "code",
   "execution_count": null,
   "metadata": {},
   "outputs": [],
   "source": [
    "#HW 9 Problems"
   ]
  },
  {
   "cell_type": "code",
   "execution_count": null,
   "metadata": {},
   "outputs": [],
   "source": [
    "#B.1\n",
    "s = \"~((~A&B)|(C&D))\"\n",
    "to_cnf(s, SHOW_STEPS)"
   ]
  },
  {
   "cell_type": "code",
   "execution_count": 20,
   "metadata": {},
   "outputs": [
    {
     "name": "stdout",
     "output_type": "stream",
     "text": [
      "Initial Expression:\n",
      "(A <=> A)\n",
      "Eliminate Implications:\n",
      "((A | ~A) & (A | ~A))\n"
     ]
    },
    {
     "data": {
      "text/plain": [
       "((A | ~A) & (A | ~A))"
      ]
     },
     "execution_count": 20,
     "metadata": {},
     "output_type": "execute_result"
    }
   ],
   "source": [
    "#B.2\n",
    "s = \"A<=>A\"\n",
    "to_cnf(s, SHOW_STEPS)"
   ]
  },
  {
   "cell_type": "code",
   "execution_count": 21,
   "metadata": {},
   "outputs": [
    {
     "name": "stdout",
     "output_type": "stream",
     "text": [
      "Initial Expression:\n",
      "((A <=> B) | C)\n",
      "Eliminate Implications:\n",
      "(((A | ~B) & (B | ~A)) | C)\n",
      "Distribution\n",
      "((A | ~B | C) & (B | ~A | C))\n"
     ]
    },
    {
     "data": {
      "text/plain": [
       "((A | ~B | C) & (B | ~A | C))"
      ]
     },
     "execution_count": 21,
     "metadata": {},
     "output_type": "execute_result"
    }
   ],
   "source": [
    "#B.3\n",
    "s = \"(A<=>B)|C\"\n",
    "to_cnf(s, SHOW_STEPS)"
   ]
  },
  {
   "cell_type": "code",
   "execution_count": 138,
   "metadata": {},
   "outputs": [
    {
     "name": "stdout",
     "output_type": "stream",
     "text": [
      "Initial Expression:\n",
      "~((~A & B) | (C & D))\n",
      "De Morgan's Theorem:\n",
      "((A | ~B) & (~C | ~D))\n"
     ]
    },
    {
     "data": {
      "text/plain": [
       "((A | ~B) & (~C | ~D))"
      ]
     },
     "execution_count": 138,
     "metadata": {},
     "output_type": "execute_result"
    }
   ],
   "source": [
    "SHOW_STEPS = True\n",
    "s = \"~((~A&B)|(C&D))\"\n",
    "to_cnf(s, SHOW_STEPS)"
   ]
  },
  {
   "cell_type": "code",
   "execution_count": 139,
   "metadata": {},
   "outputs": [],
   "source": [
    "#Demonstrate the steps of the unit propogation"
   ]
  },
  {
   "cell_type": "code",
   "execution_count": 191,
   "metadata": {},
   "outputs": [
    {
     "data": {
      "text/plain": [
       "((A | ~B) & (C | ~D) & ~C & ~B)"
      ]
     },
     "execution_count": 191,
     "metadata": {},
     "output_type": "execute_result"
    }
   ],
   "source": [
    "#Split a sentance into clauses\n",
    "s = \"~((~A&B)|(~C&D)|C|B)\"\n",
    "clauses = conjuncts(to_cnf(s))\n",
    "to_cnf(s)"
   ]
  },
  {
   "cell_type": "code",
   "execution_count": 192,
   "metadata": {},
   "outputs": [
    {
     "name": "stdout",
     "output_type": "stream",
     "text": [
      "[C]\n",
      "[C, B]\n"
     ]
    }
   ],
   "source": [
    "#To find a valid model of the sentance, all clauses must be true\n",
    "#Look for clauses with single values, and add their negations to the list of expressions that must be false\n",
    "false_exp = []\n",
    "true_exp = []\n",
    "for c in clauses:\n",
    "    if len(c.args)<=1:\n",
    "        true_exp.append(c)\n",
    "        false_exp.append(to_cnf(~c))\n",
    "        print false_exp"
   ]
  },
  {
   "cell_type": "code",
   "execution_count": 193,
   "metadata": {},
   "outputs": [
    {
     "name": "stdout",
     "output_type": "stream",
     "text": [
      "[(A | ~B), (C | ~D)]\n"
     ]
    }
   ],
   "source": [
    "#Remove already satisfied clases\n",
    "for i in true_exp:\n",
    "    clauses.remove(i)\n",
    "\n",
    "print clauses"
   ]
  },
  {
   "cell_type": "code",
   "execution_count": 194,
   "metadata": {},
   "outputs": [
    {
     "name": "stdout",
     "output_type": "stream",
     "text": [
      "[(A | ~B), |~D]\n",
      "[C, B]\n",
      "(A | ~B)\n",
      "|~D\n",
      "~D\n",
      "[~C, ~B, ~D]\n"
     ]
    }
   ],
   "source": [
    "cp_clauses = deepcopy(clauses)\n",
    "#Remove all literals known to be false from the other clases\n",
    "for c in cp_clauses:\n",
    "    for fe in false_exp:\n",
    "        if fe in deepcopy(c.args):\n",
    "            c.args.remove(fe)\n",
    "\n",
    "print cp_clauses\n",
    "\n",
    "#If any clauses are remaining with a single literal, add that literal to the known true/fault lists repeat\n",
    "print false_exp\n",
    "for c in cp_clauses:\n",
    "    print c\n",
    "    repeat = False\n",
    "    if len(c.args) <= 1:\n",
    "        if len(c.args) == 1:\n",
    "            c =  expr(c.args[0].__repr__())\n",
    "            print c\n",
    "        true_exp.append(c)\n",
    "        false_exp.append(to_cnf(~c))\n",
    "        repeat = True\n",
    "\n",
    "print true_exp\n",
    "        \n",
    "\n",
    "\n",
    "            "
   ]
  },
  {
   "cell_type": "code",
   "execution_count": null,
   "metadata": {},
   "outputs": [],
   "source": []
  },
  {
   "cell_type": "code",
   "execution_count": null,
   "metadata": {},
   "outputs": [],
   "source": []
  }
 ],
 "metadata": {
  "kernelspec": {
   "display_name": "Python 2",
   "language": "python",
   "name": "python2"
  },
  "language_info": {
   "codemirror_mode": {
    "name": "ipython",
    "version": 2
   },
   "file_extension": ".py",
   "mimetype": "text/x-python",
   "name": "python",
   "nbconvert_exporter": "python",
   "pygments_lexer": "ipython2",
   "version": "2.7.10"
  }
 },
 "nbformat": 4,
 "nbformat_minor": 2
}
