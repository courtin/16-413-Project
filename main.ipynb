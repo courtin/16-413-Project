{
 "cells": [
  {
   "cell_type": "markdown",
   "metadata": {},
   "source": [
    "# Logic and Model-Based Reasoning"
   ]
  },
  {
   "cell_type": "code",
   "execution_count": null,
   "metadata": {},
   "outputs": [],
   "source": [
    "from utils import *\n",
    "from logic import *\n",
    "from copy  import *"
   ]
  },
  {
   "cell_type": "markdown",
   "metadata": {},
   "source": [
    "**Notes on Logic**\n",
    "\n",
    "Syntax:\n",
    "\n",
    "Logical **not** (negation): $\\neg$, ~\n",
    "\n",
    "Logical **and** (conjunction): $\\wedge$, &\n",
    "\n",
    "Logical **or** (disjunction): $\\vee$, |\n",
    "\n",
    "De Morgan’s Theorem\n",
    "\n",
    "$\\neg(A \\wedge B) => (\\neg A) \\vee (\\neg B)$\n",
    "\n",
    "$\\neg(A \\vee B) => (\\neg A) \\wedge (\\neg B)$\n",
    "\n",
    "..."
   ]
  },
  {
   "cell_type": "markdown",
   "metadata": {},
   "source": [
    "# Practice reducing sentances to CNF\n",
    "The cell below will reduce logical sentances to CNF.  This is useful to check practice problems.  The following syntax is used:\n",
    "\n",
    "Implies: ==>, >>\n",
    "\n",
    "IFF: <=>\n",
    "\n",
    "and: &\n",
    "\n",
    "not: ~\n",
    "\n",
    "or: |\n",
    "\n",
    "The flag SHOW_STEPS controls how much of the process is displayed. \n",
    "\n",
    "SHOW_STEPS = False - Output is only final answer\n",
    "\n",
    "SHOW_STEPS = True - Output shows each step in the reduction process"
   ]
  },
  {
   "cell_type": "code",
   "execution_count": null,
   "metadata": {},
   "outputs": [],
   "source": [
    "#Examples\n",
    "from logic import *\n",
    "s = \"A==>B\"\n",
    "to_cnf(s)"
   ]
  },
  {
   "cell_type": "code",
   "execution_count": null,
   "metadata": {},
   "outputs": [],
   "source": [
    "s = \"A<=>B\"\n",
    "to_cnf(s)"
   ]
  },
  {
   "cell_type": "code",
   "execution_count": null,
   "metadata": {},
   "outputs": [],
   "source": [
    "s = \"(A&B)|(C&D)\"\n",
    "to_cnf(s)"
   ]
  },
  {
   "cell_type": "code",
   "execution_count": null,
   "metadata": {},
   "outputs": [],
   "source": [
    "s = \"(A<=>B)&(B==>C)\"\n",
    "to_cnf(s, True)"
   ]
  },
  {
   "cell_type": "code",
   "execution_count": null,
   "metadata": {},
   "outputs": [],
   "source": [
    "s = \"(A<=>B)|~(D&C)\"\n",
    "to_cnf(s, True)"
   ]
  },
  {
   "cell_type": "code",
   "execution_count": null,
   "metadata": {},
   "outputs": [],
   "source": [
    "#HW 9 Problems"
   ]
  },
  {
   "cell_type": "code",
   "execution_count": null,
   "metadata": {},
   "outputs": [],
   "source": [
    "#B.1\n",
    "SHOW_STEPS = True\n",
    "s = \"~((~A&B)|(C&D))\"\n",
    "to_cnf(s, SHOW_STEPS)"
   ]
  },
  {
   "cell_type": "code",
   "execution_count": null,
   "metadata": {},
   "outputs": [],
   "source": [
    "#B.2\n",
    "s = \"A<=>A\"\n",
    "to_cnf(s, SHOW_STEPS)"
   ]
  },
  {
   "cell_type": "code",
   "execution_count": null,
   "metadata": {},
   "outputs": [],
   "source": [
    "#B.3\n",
    "s = \"(A<=>B)|C\"\n",
    "to_cnf(s, SHOW_STEPS)"
   ]
  },
  {
   "cell_type": "code",
   "execution_count": null,
   "metadata": {},
   "outputs": [],
   "source": [
    "SHOW_STEPS = True\n",
    "s = \"~((~A&B)|(C&D))\"\n",
    "to_cnf(s, SHOW_STEPS)"
   ]
  },
  {
   "cell_type": "code",
   "execution_count": null,
   "metadata": {},
   "outputs": [],
   "source": [
    "#Demonstrate the steps of the unit propogation"
   ]
  },
  {
   "cell_type": "code",
   "execution_count": null,
   "metadata": {},
   "outputs": [],
   "source": [
    "#Split a sentance into clauses\n",
    "s = \"~((~A&B)|(~C&D)|C|B)\"\n",
    "clauses = conjuncts(to_cnf(s))\n",
    "to_cnf(s)"
   ]
  },
  {
   "cell_type": "code",
   "execution_count": null,
   "metadata": {},
   "outputs": [],
   "source": [
    "#To find a valid model of the sentance, all clauses must be true\n",
    "#Look for clauses with single values, and add their negations to the list of expressions that must be false\n",
    "false_exp = []\n",
    "true_exp = []\n",
    "for c in clauses:\n",
    "    if len(c.args)<=1:\n",
    "        true_exp.append(c)\n",
    "        false_exp.append(to_cnf(~c))\n",
    "        print(false_exp)"
   ]
  },
  {
   "cell_type": "code",
   "execution_count": null,
   "metadata": {},
   "outputs": [],
   "source": [
    "#Remove already satisfied clases\n",
    "for i in true_exp:\n",
    "    clauses.remove(i)\n",
    "\n",
    "print clauses"
   ]
  },
  {
   "cell_type": "code",
   "execution_count": null,
   "metadata": {},
   "outputs": [],
   "source": [
    "cp_clauses = deepcopy(clauses)\n",
    "#Remove all literals known to be false from the other clases\n",
    "for c in cp_clauses:\n",
    "    for fe in false_exp:\n",
    "        if fe in deepcopy(c.args):\n",
    "            c.args.remove(fe)\n",
    "\n",
    "print(cp_clauses)\n",
    "\n",
    "#If any clauses are remaining with a single literal, add that literal to the known true/fault lists repeat\n",
    "print(false_exp)\n",
    "for c in cp_clauses:\n",
    "    print(c)\n",
    "    repeat = False\n",
    "    if len(c.args) <= 1:\n",
    "        if len(c.args) == 1:\n",
    "            c =  expr(c.args[0].__repr__())\n",
    "            print(c)\n",
    "        true_exp.append(c)\n",
    "        false_exp.append(to_cnf(~c))\n",
    "        repeat = True\n",
    "\n",
    "print(true_exp)\n",
    "        \n",
    "\n",
    "\n",
    "            "
   ]
  },
  {
   "cell_type": "code",
   "execution_count": null,
   "metadata": {},
   "outputs": [],
   "source": [
    "def trim_or(clauses):\n",
    "    #print type(clauses)\n",
    "    #print \"TRIMMING %s\" % clauses\n",
    "\n",
    "    clauses_to_trim = []\n",
    "    for c in clauses:\n",
    "        if len(c.args)==1 and (c.op == \"|\" or c.op == \"|~\"):\n",
    "            clauses_to_trim.append(c)\n",
    "    #print \"ltt: %s\"%len(clauses_to_trim)\n",
    "    if len(clauses_to_trim) > 0:\n",
    "        clauses = [c.args[0] if (c in clauses_to_trim) else c for c in clauses]\n",
    "    #print \"TRIMMED: %s\"%clauses\n",
    "    return clauses\n",
    "\n",
    "def unit_propagation(s):\n",
    "    #print type(s)\n",
    "    #if type(s) == \"<type 'str'>\":\n",
    "    s_cnf = to_cnf(s)\n",
    "    clauses = conjuncts(s_cnf)\n",
    "    #else:\n",
    "    #    clauses = s\n",
    "            \n",
    "    repeat = True\n",
    "    false_exp = []\n",
    "    true_exp = []\n",
    "    flag = True\n",
    "    while (flag or repeat):\n",
    "        #print \"Loop Start\"\n",
    "        #print clauses\n",
    "        if not repeat:\n",
    "            flag = False\n",
    "        #for c in clauses:\n",
    "        #    if len(c.args)<=1:\n",
    "        #        true_exp.append(c)\n",
    "        #        false_exp.append(to_cnf(~c))\n",
    "        repeat = False\n",
    "        for c in clauses:\n",
    "            #print len(clauses)\n",
    "            #print \"c: %s\"%c\n",
    "            if len(c.args) <= 1 and len(clauses) > 0:\n",
    "                c2 = deepcopy(c)\n",
    "                #print \"c2:%s\"%c2\n",
    "                [c2] = trim_or([c2])\n",
    "                #print \"c2:%s\"%c2\n",
    "                if c not in true_exp:\n",
    "                    #trim_or([c2])\n",
    "                    true_exp.append(c2)\n",
    "                    #print true_exp\n",
    "                    false_exp.append(to_cnf(~c))\n",
    "                    repeat = True \n",
    "                \n",
    "        for e in true_exp:\n",
    "            #print \"e:%s\"%e\n",
    "            if e in clauses: clauses.remove(e) \n",
    "            #print \"Clauses:%s\"%clauses\n",
    "            \n",
    "        for c in clauses:\n",
    "            for fe in false_exp:\n",
    "                if fe in deepcopy(c.args):\n",
    "                    #print (\"Args:%s\"%c.args)\n",
    "                    #print (\"Op:%s\"%c.op)\n",
    "                    if c.op != \"~\":\n",
    "                        c.args.remove(fe)\n",
    "                    #print \"Clause after removing %s: %s\"%(fe, clauses)\n",
    "        clauses = trim_or(clauses)\n",
    "    \n",
    "    return clauses, true_exp\n",
    "\n",
    "s = \"(A1 ==> (X1 <=>(P1&V1)))&P1&~V1&A1\"\n",
    "print(unit_propagation(s))"
   ]
  },
  {
   "cell_type": "code",
   "execution_count": null,
   "metadata": {},
   "outputs": [],
   "source": [
    "s = \"~((~A&B)|(~C&D)|~C|B)\"\n",
    "print(to_cnf(s))"
   ]
  },
  {
   "cell_type": "code",
   "execution_count": null,
   "metadata": {},
   "outputs": [],
   "source": [
    "#Boolean Spaceship Example\n",
    "#Model that encodes the relationship between parts\n",
    "C = []\n",
    "C.append(\"A1 ==> (X1 <=>(P1&V1))\")\n",
    "C.append(\"A2 ==> (X2 <=>(P2&V2))\")\n",
    "C.append(\"A3 ==> (T1 <=>(X1&X2))\")\n",
    "C.append(\"A4 ==> (X3 <=>(V3&P1))\")\n",
    "C.append(\"A5 ==> (X4 <=>(V4&P2))\")\n",
    "C.append(\"A6 ==> (T2 <=>(X3&X4))\")\n",
    "C.append(\"A7 ==> (S1 <=>((T1&Y3)|(T2&Y3)))\")\n",
    "#C.append(\"R1 ==> (Y3 <=>((Y1|Y2)&(~Y1|~Y2)))\")\n",
    "C.append(\"R1 ==> (Y3 <=>((Y1|Y2)))\")\n",
    "C.append(\"C1 ==> (Y1 <=>B1)\")\n",
    "C.append(\"C2 ==> (Y2 <=>B2)\")\n",
    "\n",
    "\n",
    "def make_sentance(clauses):\n",
    "    s = \"\"\n",
    "    for c in clauses:\n",
    "        repeat = False\n",
    "        if len(c.args) <= 1:\n",
    "            if len(c.args) == 1:\n",
    "                c =  expr(c.args[0].__repr__())\n",
    "            true_exp.append(c)\n",
    "            false_exp.append(to_cnf(~c))\n",
    "            repeat = True \n",
    "        \n",
    "    return clauses, true_exp\n",
    "\n",
    "s = \"(A1 ==> (X1 <=>(P1&V1)))&P1&V1&A1\"\n",
    "print(unit_propagation(s))"
   ]
  },
  {
   "cell_type": "code",
   "execution_count": null,
   "metadata": {},
   "outputs": [],
   "source": [
    "s = \"~((~A&B)|(~C&D)|C|B)\"\n",
    "print(to_cnf(s))"
   ]
  },
  {
   "cell_type": "code",
   "execution_count": null,
   "metadata": {},
   "outputs": [],
   "source": [
    "#Boolean Spaceship Example\n",
    "#Model that encodes the relationship between parts\n",
    "C = []\n",
    "C.append(\"A1 ==> (X1 <=>(P1&V1))\")\n",
    "C.append(\"A2 ==> (X2 <=>(P2&V2))\")\n",
    "C.append(\"A3 ==> (T1 <=>(X1&X2))\")\n",
    "C.append(\"A4 ==> (X3 <=>(V3&P1))\")\n",
    "C.append(\"A5 ==> (X4 <=>(V4&P2))\")\n",
    "C.append(\"A6 ==> (T2 <=>(X3&X4))\")\n",
    "C.append(\"A7 ==> (S1 <=>((T1&Y3)|(T2&Y3)))\")\n",
    "C.append(\"R1 ==> (Y3 <=>((Y1&~Y2)|(~Y1&Y2)))\")\n",
    "#C.append(\"R1 ==> (Y3 <=>((Y1|Y2)))\")\n",
    "C.append(\"C1 ==> (Y1 <=>B1)\")\n",
    "C.append(\"C2 ==> (Y2 <=>B2)\")\n",
    "\n",
    "\n",
    "def make_sentance(clauses):\n",
    "        s = \"\"\n",
    "        for c in clauses:\n",
    "            if s == \"\":\n",
    "                s = \"(\"+c+\")\"\n",
    "            else:        \n",
    "                s += \"&(\"+c+\")\"\n",
    "        return s\n",
    "\n",
    "print(to_cnf(make_sentance(C)))\n",
    "\n",
    "#All components functioning\n",
    "C.append(\"A1\")\n",
    "C.append(\"A2\")\n",
    "C.append(\"A3\")\n",
    "C.append(\"A4\")\n",
    "C.append(\"A5\")\n",
    "C.append(\"A6\")\n",
    "C.append(\"A7\")\n",
    "C.append(\"R1\")\n",
    "C.append(\"C1\")\n",
    "C.append(\"C2\")\n",
    "\n",
    "\n",
    "print(unit_propagation(make_sentance(C)))\n"
   ]
  },
  {
   "cell_type": "code",
   "execution_count": null,
   "metadata": {},
   "outputs": [],
   "source": [
    "#Assign a state to the system\n",
    "#Propellant on\n",
    "C.append(\"P1\")\n",
    "C.append(\"P2\")\n",
    "\n",
    "#Battery 1 on\n",
    "C.append(\"B1\")\n",
    "\n",
    "#Battery 2 off\n",
    "C.append(\"~B2\")\n",
    "\n",
    "#Valve 1 and 2 open\n",
    "C.append(\"V1\")\n",
    "C.append(\"V2\")\n",
    "\n",
    "#Valve 2 and 3 closed\n",
    "C.append(\"~V3\")\n",
    "C.append(\"~V4\")\n",
    "\n",
    "#print to_cnf(make_sentance(C))\n",
    "\n",
    "unit_propagation(make_sentance(C))\n"
   ]
  },
  {
   "cell_type": "code",
   "execution_count": null,
   "metadata": {},
   "outputs": [],
   "source": []
  },
  {
   "cell_type": "code",
   "execution_count": null,
   "metadata": {},
   "outputs": [],
   "source": []
  },
  {
   "cell_type": "code",
   "execution_count": null,
   "metadata": {},
   "outputs": [],
   "source": []
  }
 ],
 "metadata": {
  "kernelspec": {
   "display_name": "Python 3",
   "language": "python",
   "name": "python3"
  },
  "language_info": {
   "codemirror_mode": {
    "name": "ipython",
    "version": 3
   },
   "file_extension": ".py",
   "mimetype": "text/x-python",
   "name": "python",
   "nbconvert_exporter": "python",
   "pygments_lexer": "ipython3",
   "version": "3.7.1"
  }
 },
 "nbformat": 4,
 "nbformat_minor": 2
}
