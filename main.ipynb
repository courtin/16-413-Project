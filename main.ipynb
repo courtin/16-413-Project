{
 "cells": [
  {
   "cell_type": "markdown",
   "metadata": {},
   "source": [
    "# Logic and Model-Based Reasoning"
   ]
  },
  {
   "cell_type": "code",
   "execution_count": 1,
   "metadata": {},
   "outputs": [],
   "source": [
    "from utils import *\n",
    "from logic import *\n",
    "from copy  import *\n",
    "from classes import *\n",
    "import matplotlib.pyplot as plt\n",
    "from IPython.display import clear_output"
   ]
  },
  {
   "cell_type": "markdown",
   "metadata": {},
   "source": [
    "## **Propositional Logic**\n",
    "\n",
    "Propositional logic is a formal language that is used to represent information, in order to reason about the truth and implications of various statements.  The basic elements of this language is a **proposition**, which is a simple true or false statement, or equivallently an assignment to one of the domain variables that make up the system being modeled. Logical **sentance** are created by combining propositions using various boolean operators.  The three fundamental boolean operators are **and**, **or**, and **not**. The truth table for these operations is shown below. \n",
    "\n",
    "| A | B | A **and** B | A **or** B | **not** A |\n",
    "|:-:|:-:|:-------:|:------:|:-----:|\n",
    "| T | T | T | T      | F     |\n",
    "| T | F | F | T      | F     |\n",
    "| F | T | F | T      | T     |\n",
    "| F | F | F | F      | T     |\n",
    "\n",
    "There are other boolean operators that are commonly used, but all can be reduced to some combination of the three fundamental operators.  Some of the more useful are **implies**, **iff**, and **xor**. \n",
    "\n",
    "The **implies** operation means that if A is true B must be true, but if A is false B may be true or false.  **iff**, or \"if and only if\", means that if A is true B must be true, and vice versa.  **xor** means that either A or B, but not both, must be true. The truth tables for these operations are shown below.  \n",
    "\n",
    "| A | B | A **implies** B | A **iff** B | A **xor** B |\n",
    "|:-:|:-:|:-------:|:------:|:-----:|\n",
    "| T | T |    T    |    T   |   F   |\n",
    "| T | F |    F    |    F   |   T   |\n",
    "| F | T |    T    |    F   |   T   |\n",
    "| F | F |    T    |    T   |   F   |\n",
    "\n",
    "***Note on syntax:***\n",
    "\n",
    "The symbols that will be used to represent each operator are shown in the table below. \n",
    "\n",
    "| Operator | Markdown | Code | \n",
    "|:-:|:-:|:-------:|\n",
    "| **and** | $\\wedge$ |&|\n",
    "| **or** | $\\vee$ |||\n",
    "|**not** | $\\neg$|~|\n",
    "|**implies** |$\\rightarrow$|==>, >>|\n",
    "|**iff** | $\\iff$ |    <=>    |\n",
    "\n",
    "THe **interpretation** of a logical sentance is an assignment to all of the variables that make up that sentance.  If, for a given interpretation, the sentance is true than that interpretation is said to be a **model** of the sentance.  A sentance is **satisfiable** if *at least one* model of the sentance exists.  A sentance is **valid** if *any* interpretation is a model. A sentance *s* is **entailed** by a knowledge base KB (a combination of sentances already known to be true) iff it is true for all models KB (i.e. a model of KB is also a valid model of a).\n",
    "\n",
    "To check for satisfiability of a logical sentance, it is useful to reduce it to **Conjunctive Normal Form (CNF)**.  CNF consists of **literals** - propositions or their negations - and **clauses**, which are literals combined by \"or\".  A sentance is CNF is a set of clauses combined by \"and\".  \n",
    "\n",
    "To reduce a given sentance to CNF there are several useful identities or rules of propositional logic. \n",
    "\n",
    "**Implies and IFF**\n",
    "\n",
    "$(A \\rightarrow B) => (\\neg A) \\vee (B)$\n",
    "\n",
    "$(A \\iff B) => (A \\rightarrow B)\\wedge(B \\rightarrow A)$\n",
    "\n",
    "**De Morgan’s Theorem**\n",
    "\n",
    "$\\neg(A \\wedge B) => (\\neg A) \\vee (\\neg B)$\n",
    "\n",
    "$\\neg(A \\vee B) => (\\neg A) \\wedge (\\neg B)$\n",
    "\n",
    "**Distribution**\n",
    "\n",
    "$A \\vee (B\\wedge C) => (A\\vee B) \\wedge (A \\vee C)$\n",
    "\n",
    "$A \\wedge (B\\vee C) => (A\\wedge B) \\vee (A \\wedge C)$\n",
    "\n",
    "**Association**\n",
    "\n",
    "$A \\vee (B\\vee C) => (A \\vee B)\\vee C$\n",
    "\n",
    "$A \\wedge (B\\wedge C) => (A\\wedge B) \\wedge C$\n",
    "\n",
    "**Commutation**\n",
    "\n",
    "$A \\vee B => B\\vee A$\n",
    "\n",
    "$A \\wedge B => B\\wedge A$"
   ]
  },
  {
   "cell_type": "markdown",
   "metadata": {},
   "source": [
    "### Code Snippet 0: Practice reducing sentances to CNF\n",
    "The cell below will reduce logical sentances to CNF using the function to_cnf(s).  This is useful to check practice problems.  \n",
    "\n",
    "The input should be in the form of a logical sentance s = \"((A&B)|C)&(D==>E)\".  Use paraenthesis to denote order of operations.  The flag SHOW controls how much of the process is displayed. \n",
    "\n",
    "SHOW = False: Output is only final answer. This is the default.\n",
    "\n",
    "SHOW = True: Output shows each step in the reduction process\n",
    "\n",
    "This function uses the logic.py library distributed with the AIMA textbook, updated to be compatible with Python 3.x\n",
    "Source: http://aima.cs.berkeley.edu/\n"
   ]
  },
  {
   "cell_type": "code",
   "execution_count": 2,
   "metadata": {},
   "outputs": [
    {
     "name": "stdout",
     "output_type": "stream",
     "text": [
      "Initial Expression:\n",
      "my_logical_sentance\n"
     ]
    },
    {
     "data": {
      "text/plain": [
       "my_logical_sentance"
      ]
     },
     "execution_count": 2,
     "metadata": {},
     "output_type": "execute_result"
    }
   ],
   "source": [
    "SHOW = True\n",
    "s = \"my_logical_sentance\"\n",
    "to_cnf(s, SHOW)"
   ]
  },
  {
   "cell_type": "markdown",
   "metadata": {},
   "source": [
    "#### Examples "
   ]
  },
  {
   "cell_type": "code",
   "execution_count": 3,
   "metadata": {},
   "outputs": [
    {
     "data": {
      "text/plain": [
       "(B | ~A)"
      ]
     },
     "execution_count": 3,
     "metadata": {},
     "output_type": "execute_result"
    }
   ],
   "source": [
    "#Remove implication\n",
    "s = \"A==>B\"\n",
    "to_cnf(s)"
   ]
  },
  {
   "cell_type": "code",
   "execution_count": 4,
   "metadata": {},
   "outputs": [
    {
     "data": {
      "text/plain": [
       "((A | ~B) & (B | ~A))"
      ]
     },
     "execution_count": 4,
     "metadata": {},
     "output_type": "execute_result"
    }
   ],
   "source": [
    "#Remove iff\n",
    "s = \"A<=>B\"\n",
    "to_cnf(s)"
   ]
  },
  {
   "cell_type": "code",
   "execution_count": 5,
   "metadata": {},
   "outputs": [
    {
     "data": {
      "text/plain": [
       "((C | A) & (D | A) & (C | B) & (D | B))"
      ]
     },
     "execution_count": 5,
     "metadata": {},
     "output_type": "execute_result"
    }
   ],
   "source": [
    "#Distribution\n",
    "s = \"(A&B)|(C&D)\"\n",
    "to_cnf(s)"
   ]
  },
  {
   "cell_type": "code",
   "execution_count": 6,
   "metadata": {},
   "outputs": [
    {
     "name": "stdout",
     "output_type": "stream",
     "text": [
      "Initial Expression:\n",
      "((A <=> B) & (B >> C))\n",
      "Eliminate Implications:\n",
      "(((A | ~B) & (B | ~A)) & (C | ~B))\n",
      "Distribution\n",
      "((A | ~B) & (B | ~A) & (C | ~B))\n"
     ]
    },
    {
     "data": {
      "text/plain": [
       "((A | ~B) & (B | ~A) & (C | ~B))"
      ]
     },
     "execution_count": 6,
     "metadata": {},
     "output_type": "execute_result"
    }
   ],
   "source": [
    "s = \"(A<=>B)&(B==>C)\"\n",
    "to_cnf(s, True)"
   ]
  },
  {
   "cell_type": "code",
   "execution_count": 7,
   "metadata": {},
   "outputs": [
    {
     "name": "stdout",
     "output_type": "stream",
     "text": [
      "Initial Expression:\n",
      "((A <=> B) | ~(D & C))\n",
      "Eliminate Implications:\n",
      "(((A | ~B) & (B | ~A)) | ~(D & C))\n",
      "De Morgan's Theorem:\n",
      "(((A | ~B) & (B | ~A)) | (~D | ~C))\n",
      "Distribution\n",
      "((A | ~B | ~D | ~C) & (B | ~A | ~D | ~C))\n"
     ]
    },
    {
     "data": {
      "text/plain": [
       "((A | ~B | ~D | ~C) & (B | ~A | ~D | ~C))"
      ]
     },
     "execution_count": 7,
     "metadata": {},
     "output_type": "execute_result"
    }
   ],
   "source": [
    "s = \"(A<=>B)|~(D&C)\"\n",
    "to_cnf(s, True)"
   ]
  },
  {
   "cell_type": "code",
   "execution_count": 8,
   "metadata": {},
   "outputs": [
    {
     "name": "stdout",
     "output_type": "stream",
     "text": [
      "Initial Expression:\n",
      "~((~A & B) | (C & D))\n",
      "De Morgan's Theorem:\n",
      "((A | ~B) & (~C | ~D))\n",
      "Initial Expression:\n",
      "(A <=> A)\n",
      "Eliminate Implications:\n",
      "((A | ~A) & (A | ~A))\n",
      "Initial Expression:\n",
      "((A <=> B) | C)\n",
      "Eliminate Implications:\n",
      "(((A | ~B) & (B | ~A)) | C)\n",
      "Distribution\n",
      "((A | ~B | C) & (B | ~A | C))\n",
      "Initial Expression:\n",
      "~((~A & B) | (C & D))\n",
      "De Morgan's Theorem:\n",
      "((A | ~B) & (~C | ~D))\n"
     ]
    },
    {
     "data": {
      "text/plain": [
       "((A | ~B) & (~C | ~D))"
      ]
     },
     "execution_count": 8,
     "metadata": {},
     "output_type": "execute_result"
    }
   ],
   "source": [
    "#HW 9 Problems - [For test should probably delete for submission]\n",
    "#B.1\n",
    "SHOW_STEPS = True\n",
    "s = \"~((~A&B)|(C&D))\"\n",
    "to_cnf(s, SHOW_STEPS)\n",
    "#B.2\n",
    "s = \"A<=>A\"\n",
    "to_cnf(s, SHOW_STEPS)\n",
    "#B.3\n",
    "s = \"(A<=>B)|C\"\n",
    "to_cnf(s, SHOW_STEPS)\n",
    "SHOW_STEPS = True\n",
    "s = \"~((~A&B)|(C&D))\"\n",
    "to_cnf(s, SHOW_STEPS)"
   ]
  },
  {
   "cell_type": "markdown",
   "metadata": {},
   "source": [
    "## **Propositional Satisfiability**\n",
    "\n",
    "One common type of problem in propositional logic are propositional satisfiability problems; finding the set of propositions P that satisfy a sentance $\\Phi$.  One of the most common ways of solving these problems is a search algorithm (DPLL) which combines backtrack search with **unit propagation**.\n",
    "\n",
    "### Code Snippet 1: Unit Propagation\n",
    "Unit propagation is the repeated application if the rule that, if all literals in a clause are false except L, then L must be true.  For a large set of clauses, that can be used repeatedly to solve for multiple variables. \n",
    "\n",
    "Given A = T, B = F, and the clause $(\\neg A \\vee B \\vee C)$, unit propagation implies that the literal C must be true sice the literals $\\neg A$ and $B$ are both false. \n",
    "\n",
    "A demonstration of unit propagation starts with a logical sentance s."
   ]
  },
  {
   "cell_type": "code",
   "execution_count": 9,
   "metadata": {},
   "outputs": [],
   "source": [
    "s = \"~((~A&B)|(~C&D)|C|B)\""
   ]
  },
  {
   "cell_type": "markdown",
   "metadata": {},
   "source": [
    "The first step is to reduce the sentance to a set of clauses in CNF. "
   ]
  },
  {
   "cell_type": "code",
   "execution_count": 10,
   "metadata": {},
   "outputs": [
    {
     "name": "stdout",
     "output_type": "stream",
     "text": [
      "[(A | ~B), (C | ~D), ~C, ~B]\n"
     ]
    }
   ],
   "source": [
    "clauses = conjuncts(to_cnf(s))\n",
    "print(clauses)"
   ]
  },
  {
   "cell_type": "markdown",
   "metadata": {},
   "source": [
    "To find a valid model of the sentance, all clauses must be true.  We want the unit propagation algorithm to return all the literals of the systems it can prove are true or false according to the sentance.  This may or may not be a full assignment across all literals.  It should also return a new sentance that compactly represents the remaining clauses.   "
   ]
  },
  {
   "cell_type": "code",
   "execution_count": 11,
   "metadata": {},
   "outputs": [
    {
     "name": "stdout",
     "output_type": "stream",
     "text": [
      "([(P1 | ~X1)], [P1, ~V1, A1, ~X1])\n"
     ]
    }
   ],
   "source": [
    "# Returns clauses and a set of propositions that are true\n",
    "# If ~X must be True, then X=False, and ~X shows up in the set of true \n",
    "def unit_propagation(s):\n",
    "    \"\"\"This implementation of unit propagation works but doesn't record support for each clause; will update\"\"\"\n",
    "    clauses = check_input(s)\n",
    "    \n",
    "    repeat = True # this unit propagation function repeats until no changes \n",
    "    false_exp = [] #List of literals known to be false\n",
    "    true_exp = [] #List of literals known to be true (inverse of false_exp, created here for convenience)\n",
    "    while repeat: #Repeat the unit propagation steps until the clauses can't be reduced further\n",
    "        repeat = False\n",
    "        for c in clauses: #For each clause in the sentance\n",
    "            if len(c.args) <= 1 and len(clauses) > 0: #if the clause contains a single literal/the list isn't empty\n",
    "                cc = copy(c) #Create a copy of that literal\n",
    "                if cc not in true_exp: #Check that the literal hasn't already been saved\n",
    "                    true_exp.append(cc) #Add that literal to the list of true literals\n",
    "                    false_exp.append(to_cnf(~cc)) #Add the negation of that literal to the list of false literals\n",
    "                    repeat = True #Repeat the entire loop; since a new literal has been proven we may be able to \n",
    "                                  #propagate more\n",
    "                \n",
    "        for e in true_exp: #For every literal we know to be true...\n",
    "            if e in clauses: clauses.remove(e) #Remove that literal from clauses where it appears. \n",
    "            \n",
    "        for c in clauses: #For each clause in the sentance \n",
    "            for fe in false_exp: #For each literal we know to be false\n",
    "                if fe in copy(c.args): #If that literal is in the clause \n",
    "                    if c.op != \"~\": #(Syntatic check)\n",
    "                        c.args.remove(fe) #Remove that literal from the clause\n",
    "        clauses = trim_or(clauses) #Clean up syntax\n",
    "    return clauses, true_exp\n",
    "\n",
    "s = \"(A1 ==> (X1 <=>(P1&V1)))&P1&~V1&A1\"\n",
    "print(unit_propagation(s))"
   ]
  },
  {
   "cell_type": "markdown",
   "metadata": {},
   "source": [
    "### Code Snippet 2: DPLL \n",
    "\n",
    "The DPLL algorithm works as follows:\n",
    "\n",
    "First, an initial unit propagation.\n",
    "\n",
    "Then, repeatedly: \n",
    "1. Assign value to unassigned proposition\n",
    "2. Unit propagate \n",
    "3. Backtrack whenever clause is violated\n",
    "4. If complete assignment, satisfiable. \n",
    "\n",
    "\n",
    "Unit propagation assigns values to propositions that need to equal a certain value in order for the clause to satisfy. Here's an example:"
   ]
  },
  {
   "cell_type": "code",
   "execution_count": 12,
   "metadata": {},
   "outputs": [
    {
     "name": "stdout",
     "output_type": "stream",
     "text": [
      "( ( X = True ) & ( Y | Z ) )\n"
     ]
    }
   ],
   "source": [
    "formula = AND.from_string_to_cnf(\"( X & ( Y | Z ) )\") \n",
    "formula.unit_propagate().print()"
   ]
  },
  {
   "cell_type": "markdown",
   "metadata": {},
   "source": [
    "Notice how there is an unassigned clause but that unit propagation can not proceed. The next step is to arbitrarily assign one of the variables, keeping the record as a support, and proceed to see whether we have a model."
   ]
  },
  {
   "cell_type": "code",
   "execution_count": 13,
   "metadata": {},
   "outputs": [
    {
     "name": "stdout",
     "output_type": "stream",
     "text": [
      "( ( Y = True | Z ) & ( Z | X ) )\n",
      "here you can see unit propagation has no where to continue...\n",
      "Instead we perform a DPLL step.\n",
      "( ( Y = True | Z = False ) & ( Z = False | X ) )\n",
      "( ( Y = True | Z = False ) & ( Z = False | X = True ) )\n",
      "And unit propagation can finish the job!\n"
     ]
    }
   ],
   "source": [
    "def assign_next(formula):\n",
    "    for or_clause in formula:\n",
    "        for literal in or_clause:\n",
    "            if literal.assignment is None:\n",
    "                literal.assign(False)\n",
    "                return formula\n",
    "\n",
    "formula = AND.from_string_to_cnf(\"(Y | Z) & (Z | X)\")\n",
    "formula.literals_by_name[\"Y\"].assign(True)\n",
    "formula.unit_propagate().print()\n",
    "\n",
    "print(\"here you can see unit propagation has no where to continue...\")\n",
    "print(\"Instead we perform a DPLL step.\")\n",
    "\n",
    "assign_next(formula).print()\n",
    "\n",
    "formula.unit_propagate().print()\n",
    "print(\"And unit propagation can finish the job!\")"
   ]
  },
  {
   "cell_type": "markdown",
   "metadata": {},
   "source": [
    "On the other hand, see what happens when you need to backtrack!"
   ]
  },
  {
   "cell_type": "code",
   "execution_count": 14,
   "metadata": {},
   "outputs": [
    {
     "name": "stdout",
     "output_type": "stream",
     "text": [
      "( ( X = True ) & ( Y | Z ) & ( Y | ~Z ) )\n",
      "X is equal to True by unit propagation...\n",
      "( ( X = True ) & ( Y = False | Z ) & ( Y = False | ~Z ) )\n",
      "Y is assigned False by guess... but watch what happens\n",
      "( ( X = True ) & ( Y = False | Z = False ) & ( Y = False | ~Z = True ) )\n",
      "Unit propagation doesn't know any better, it's just been driven into a corner!\n"
     ]
    }
   ],
   "source": [
    "formula = AND.from_string_to_cnf(\" X & (Y | Z) & (Y | ~Z)\") \n",
    "formula.unit_propagate().print()\n",
    "print(\"X is equal to True by unit propagation...\")\n",
    "assign_next(formula).print()\n",
    "print(\"Y is assigned False by guess... but watch what happens\")\n",
    "formula.unit_propagate().print()\n",
    "print(\"Unit propagation doesn't know any better, it's just been driven into a corner!\")"
   ]
  },
  {
   "cell_type": "markdown",
   "metadata": {},
   "source": [
    "We should have guessed **True** for Y! We need a way to back up and guess again!"
   ]
  },
  {
   "cell_type": "code",
   "execution_count": 15,
   "metadata": {},
   "outputs": [
    {
     "name": "stdout",
     "output_type": "stream",
     "text": [
      "Hi! I'm a new DPLL working on: ( ( X = True ) & ( Y | Z ) & ( Y | ~Z ) )\n",
      "I'm trying assignment: Y = False\n",
      "Hi! I'm a new DPLL working on: ( ( X = True ) & ( Y = False | Z = False ) & ( Y = False | ~Z = True ) )\n",
      "Drats, this isn't a solution. Good luck!\n",
      "Woops! That didn't work. I'm instead trying: Y = True\n",
      "Hi! I'm a new DPLL working on: ( ( X = True ) & ( Y = True | Z ) & ( Y = True | ~Z ) )\n",
      "I'm trying assignment: Z = False\n",
      "Hi! I'm a new DPLL working on: ( ( X = True ) & ( Y = True | Z = False ) & ( Y = True | ~Z = True ) )\n",
      "We've found a solution! It was a pleasure to serve you.\n",
      "( ( X = True ) & ( Y = True | Z = False ) & ( Y = True | ~Z = True ) )\n"
     ]
    }
   ],
   "source": [
    "class DPLL:\n",
    "    def __init__(self, formula):\n",
    "        self._formula = copy(formula)\n",
    "        self._formula.unit_propagate()\n",
    "        self._literal_assigned = None\n",
    "\n",
    "    def assign_next(self):\n",
    "        for literal in AND.get_literals(self._formula):\n",
    "            if literal.assignment is None:\n",
    "                self._literal_assigned = literal\n",
    "                literal.assign(False)\n",
    "                return\n",
    "\n",
    "    # returns False if already on second assignment\n",
    "    def try_other_assignment(self):\n",
    "        if self._literal_assigned.assignment is False:\n",
    "            self._literal_assigned.assign(True)\n",
    "            return True\n",
    "        elif self._literal_assigned is True:\n",
    "            return False\n",
    "\n",
    "    def solve(self, print_nicely=False):\n",
    "        if print_nicely: print(\"Hi! I'm a new DPLL working on: \" + str(self._formula))\n",
    "\n",
    "        if self._formula.is_satisfied:\n",
    "            if print_nicely: print(\"We've found a solution! It was a pleasure to serve you.\")\n",
    "            return self._formula\n",
    "        elif self._formula.is_complete:\n",
    "            if print_nicely: print(\"Drats, this isn't a solution. Good luck!\")\n",
    "            return None\n",
    "\n",
    "        self.assign_next()\n",
    "        if print_nicely: print(\"I'm trying assignment: \" + str(self._literal_assigned))\n",
    "        sub_solve = DPLL(self._formula).solve(print_nicely)\n",
    "        if sub_solve is None:\n",
    "            self.try_other_assignment()\n",
    "            if print_nicely: print(\"Woops! That didn't work. I'm instead trying: \" + str(self._literal_assigned))\n",
    "            sub_solve = DPLL(self._formula).solve(print_nicely)\n",
    "        if sub_solve is None:\n",
    "            if print_nicely: print(\"Shux, no more assignments possible, see ya later!\")\n",
    "            return None\n",
    "\n",
    "        return sub_solve\n",
    "    \n",
    "    \n",
    "formula = AND.from_string_to_cnf(\" X & (Y | Z) & (Y | ~Z)\")\n",
    "DPLL(formula).solve(print_nicely=True).print()"
   ]
  },
  {
   "cell_type": "markdown",
   "metadata": {},
   "source": [
    "In this DPLL implementation we run equivalently to depth first search, and find the first solution (when there is one!). DPLL's goal is to show satisfiability. \n",
    "\n",
    "Above you can see DPLL trying a different assignment when its first guess didn't work. In accordance with the algorithm, DPLL calls unit_propagate before and after each search. "
   ]
  },
  {
   "cell_type": "markdown",
   "metadata": {},
   "source": [
    "## Boolean Spaceship Example\n",
    "\n",
    "The rest of the notbook will be based on the boolean spaceship example, shown here.  This spaceship consists of some propellant tanks, valves, batteries, two thrusters, and a thrust sensor(it's a very narcissistic spaceship).  The diagram of the spaceship is shown below. P1 and P2 correspond to the propellant tanks (P1 = 1, propellant is flowing. P1 = 0, propellant is off). A1,A2, A4, and A5 are valves, controlled by V1-V4.  A3 and A6 are the thrusters, which produce thrust if X1 and X2 or X3 and X4 have propellant in them (X1 = 1).  A1 is the thrust sensor, which senses thrust if Y3 and (T1 or T2) is present.  S1 is the sensor output.\n"
   ]
  },
  {
   "cell_type": "code",
   "execution_count": 20,
   "metadata": {},
   "outputs": [
    {
     "data": {
      "image/png": "[encoded data removed]",
      "text/plain": [
       "<Figure size 432x288 with 1 Axes>"
      ]
     },
     "metadata": {
      "needs_background": "light"
     },
     "output_type": "display_data"
    }
   ],
   "source": [
    "s = Spaceship()\n",
    "s.plot_spaceship()"
   ]
  },
  {
   "cell_type": "markdown",
   "metadata": {},
   "source": [
    "The spaceship is represented by three sets of logical statements.  The first is shown below, and it maps the component variables A1-7, R1, and C1 and C2 to the correct functioning of their componenets.  These statements map how, if a component is functioning correctly, it should behave."
   ]
  },
  {
   "cell_type": "code",
   "execution_count": 21,
   "metadata": {},
   "outputs": [
    {
     "name": "stdout",
     "output_type": "stream",
     "text": [
      "A1 ==> (X1 <=>(P1&V1))\n",
      "A2 ==> (X2 <=>(P2&V2))\n",
      "A3 ==> (T1 <=>(X1&X2))\n",
      "A4 ==> (X3 <=>(V3&P1))\n",
      "A5 ==> (X4 <=>(V4&P2))\n",
      "A6 ==> (T2 <=>(X3&X4))\n",
      "A7 ==> (S1 <=>((T1&Y3)|(T2&Y3)))\n",
      "R1 ==> (Y3 <=>((Y1|Y2)))\n",
      "C1 ==> (Y1 <=>B1)\n",
      "C2 ==> (Y2 <=>B2)\n"
     ]
    }
   ],
   "source": [
    "system = []\n",
    "system.append(\"A1 ==> (X1 <=>(P1&V1))\")\n",
    "system.append(\"A2 ==> (X2 <=>(P2&V2))\")\n",
    "system.append(\"A3 ==> (T1 <=>(X1&X2))\")\n",
    "system.append(\"A4 ==> (X3 <=>(V3&P1))\")\n",
    "system.append(\"A5 ==> (X4 <=>(V4&P2))\")\n",
    "system.append(\"A6 ==> (T2 <=>(X3&X4))\")\n",
    "system.append(\"A7 ==> (S1 <=>((T1&Y3)|(T2&Y3)))\")\n",
    "system.append(\"R1 ==> (Y3 <=>((Y1|Y2)))\")\n",
    "system.append(\"C1 ==> (Y1 <=>B1)\")\n",
    "system.append(\"C2 ==> (Y2 <=>B2)\")\n",
    "\n",
    "print(\"\\n\".join(system))"
   ]
  },
  {
   "cell_type": "markdown",
   "metadata": {},
   "source": [
    "The next set of statements represents the components in the system.  True/False assignments to these variables correspond to the Good/Unknown states of each component.  If all components are functioning, we can use unit propgation to express our system as more compact set of clauses linking the inputs to the outputs.  Without any inputs, we still can't make any inferences about the hidden or final states of the system. "
   ]
  },
  {
   "cell_type": "code",
   "execution_count": 25,
   "metadata": {},
   "outputs": [
    {
     "name": "stdout",
     "output_type": "stream",
     "text": [
      "The following are True!: [A1, A2, A3, A4, A5, A6, A7, R1, C1, C2]\n"
     ]
    }
   ],
   "source": [
    "components = []\n",
    "#All components functioning\n",
    "components.append(\"A1\")\n",
    "components.append(\"A2\")\n",
    "components.append(\"A3\")\n",
    "components.append(\"A4\")\n",
    "components.append(\"A5\")\n",
    "components.append(\"A6\")\n",
    "components.append(\"A7\")\n",
    "components.append(\"R1\")\n",
    "components.append(\"C1\")\n",
    "components.append(\"C2\")\n",
    "\n",
    "unit_prop_outcomes = unit_propagation(system+components)[1]\n",
    "print(\"The following are True!: \" + str(unit_prop_outcomes))"
   ]
  },
  {
   "cell_type": "markdown",
   "metadata": {},
   "source": [
    "Finally, we can assign states to the inputs of the system. With all inputs fully assigned, we can use unit propagation to determine the final state of the system S1.  "
   ]
  },
  {
   "cell_type": "code",
   "execution_count": 26,
   "metadata": {},
   "outputs": [
    {
     "name": "stdout",
     "output_type": "stream",
     "text": [
      "The following are True!: [A1, A2, A3, A4, A5, A6, A7, R1, C1, C2, P1, P2, B1, ~B2, V1, V2, ~V3, ~V4, X1, X2, ~X3, ~X4, Y1, ~Y2, T1, ~T2, Y3, S1]\n"
     ]
    }
   ],
   "source": [
    "inputs = []\n",
    "#Propellant on\n",
    "inputs.append(\"P1\")\n",
    "inputs.append(\"P2\")\n",
    "\n",
    "#Battery 1 on\n",
    "inputs.append(\"B1\")\n",
    "\n",
    "#Battery 2 off\n",
    "inputs.append(\"~B2\")\n",
    "\n",
    "#Valve 1 and 2 open\n",
    "inputs.append(\"V1\")\n",
    "inputs.append(\"V2\")\n",
    "\n",
    "#Valve 2 and 3 closed\n",
    "inputs.append(\"~V3\")\n",
    "inputs.append(\"~V4\")\n",
    "unit_prop_outcomes = unit_propagation(system+components+inputs)[1]\n",
    "print(\"The following are True!: \" + str(unit_prop_outcomes))"
   ]
  },
  {
   "cell_type": "code",
   "execution_count": 19,
   "metadata": {},
   "outputs": [
    {
     "name": "stdout",
     "output_type": "stream",
     "text": [
      "out of all the variables: P1, V1, A1, X1, P2, V2, A2, X2, A3, T1, V3, A4, X3, V4, A5, X4, A6, T2, Y3, A7, S1, Y1, R1, Y2, B1, C1, B2, C2\n"
     ]
    }
   ],
   "source": [
    "sys = system+components+inputs\n",
    "print(\"out of all the variables: \" + \", \".join([str(var) for var in get_all_variables(sys)]))"
   ]
  },
  {
   "cell_type": "markdown",
   "metadata": {},
   "source": [
    "## Consistency-Based Diagnosis\n",
    "But what if we observe something that is not consistent with our current model? For example, suppose we don't observe any thrust on the thrust sensor (S1 = False or ~S1), even though our current model implies that it should be there (S1 = True, or S1). We would like to reason about what are the most likely failed components in our system.\n",
    "\n",
    "The **mode** of a system is an assignment to all the mode, or component, variables of a system.  Each mode variable X represents the functioning of a component, and can be assigned either Good or Unknown.  In our spaceship example, the variabels A1-A7, R1, and C1-C2 are the mode variables.  An assignment of True indicates a working component, and 0 indicates a component in the unknown state.In consistency-based diagnosis, there are no assumptions that need be made about how a component fails. \n",
    "\n",
    "To determine which components may or may not be functioning, we look for **conflicts**, which are when observations of the inputs and outputs of the system don't match what would logically follow from the current mode assignment of the system. \n"
   ]
  },
  {
   "cell_type": "markdown",
   "metadata": {},
   "source": [
    "### Code Snippet 3: Conflict Checking\n",
    "\n",
    "The conflict checking algorithm takes a set of inputs to the spaceship, and an observation of the thrust sensor output, and determines if the two are logically consistent. The current state of the spaceship is shown below."
   ]
  },
  {
   "cell_type": "code",
   "execution_count": 43,
   "metadata": {},
   "outputs": [
    {
     "data": {
      "image/png": "[encoded data removed]",
      "text/plain": [
       "<Figure size 432x288 with 1 Axes>"
      ]
     },
     "metadata": {
      "needs_background": "light"
     },
     "output_type": "display_data"
    }
   ],
   "source": [
    "s = Spaceship()\n",
    "s.change_input(\"P1\", True)\n",
    "s.change_input(\"P2\", True)\n",
    "s.change_input(\"V1\", True)\n",
    "s.change_input(\"V2\", True)\n",
    "s.change_input(\"V3\", False)\n",
    "s.change_input(\"V4\", False)\n",
    "s.change_input(\"B1\", True)\n",
    "s.change_input(\"B2\", False)\n",
    "s.plot_spaceship()"
   ]
  },
  {
   "cell_type": "markdown",
   "metadata": {},
   "source": [
    "For this state of the system, suppose we don't observe any thrust (S1 = 0).  Is this in conflict with our model? Let's find out..."
   ]
  },
  {
   "cell_type": "code",
   "execution_count": 36,
   "metadata": {},
   "outputs": [
    {
     "name": "stdout",
     "output_type": "stream",
     "text": [
      "Checking to see if we can find a model, we have determined the presence of conflicts is.. True\n"
     ]
    }
   ],
   "source": [
    "observations = \"~S1\"\n",
    "inputs = s.make_sentance(s.inputs)\n",
    "components = []\n",
    "#All components functioning\n",
    "components.append(\"A1\")\n",
    "components.append(\"A2\")\n",
    "components.append(\"A3\")\n",
    "components.append(\"A4\")\n",
    "components.append(\"A5\")\n",
    "components.append(\"A6\")\n",
    "components.append(\"A7\")\n",
    "components.append(\"R1\")\n",
    "components.append(\"C1\")\n",
    "components.append(\"C2\")\n",
    "\n",
    "def check_conflicts(inputs,components,observations, system):\n",
    "    #Returns true if a set of inputs, component assignments, and observations is a conflict for a given system\n",
    "    \n",
    "    s = make_sentance(system)+\"&\"+make_sentance(components)+\"&\"+inputs #Syntax; formatting everything in CNF\n",
    "    clauses, true_statements = unit_propagation(s) #Perform unit propagation on the current state of the system\n",
    "    obs = conjuncts(to_cnf(observations)) #Make sure our observations are in cnf, and split into clauses\n",
    "\n",
    "    for o in obs: #For each observation we have\n",
    "        not_obs = (to_cnf(~o)) #Look at the negation of that observation\n",
    "        if not_obs in true_statements: #If our model shows that to be true...\n",
    "            return True #Then there is a conflict\n",
    "        \n",
    "    return False #Otherwise there is not\n",
    "conflicts = check_conflicts(inputs,components,observations, system)\n",
    "print(\"Checking to see if we can find a model, we have determined the presence of conflicts is.. \" + str(conflicts))"
   ]
  },
  {
   "cell_type": "markdown",
   "metadata": {},
   "source": [
    "The code below let's you test different spaceship states for conflicts. For example, type \"A1,A2,A3,A7,C1,R1\" into the box to check the case above.  The inputs and observations can be changed as well."
   ]
  },
  {
   "cell_type": "code",
   "execution_count": 2,
   "metadata": {},
   "outputs": [
    {
     "data": {
      "image/png": "[encoded data removed]",
      "text/plain": [
       "<Figure size 432x288 with 1 Axes>"
      ]
     },
     "metadata": {
      "needs_background": "light"
     },
     "output_type": "display_data"
    },
    {
     "data": {
      "text/plain": [
       "True"
      ]
     },
     "execution_count": 2,
     "metadata": {},
     "output_type": "execute_result"
    }
   ],
   "source": [
    "s = Spaceship()\n",
    "s.change_input(\"P1\", True)\n",
    "s.change_input(\"P2\", True)\n",
    "s.change_input(\"V1\", True)\n",
    "s.change_input(\"V2\", True)\n",
    "s.change_input(\"V3\", False)\n",
    "s.change_input(\"V4\", False)\n",
    "s.change_input(\"B1\", True)\n",
    "s.change_input(\"B2\", False)\n",
    "s.all_unknown()\n",
    "obs = \"~S1\"\n",
    "s.update_colors()\n",
    "s.plot_spaceship()\n",
    "print(\"Input the components to check for conflict, separated by commas\")\n",
    "a = input()\n",
    "cmps = parse_input(a,s)\n",
    "for c in cmps:\n",
    "    s.change_component(c,True)\n",
    "clear_output()\n",
    "s.plot_spaceship()\n",
    "s.check_conflicts(obs)\n"
   ]
  },
  {
   "cell_type": "code",
   "execution_count": 37,
   "metadata": {},
   "outputs": [],
   "source": [
    "prior = {\"A1\":.9, \"A2\":.9, \"A3\":.7, \"A4\":.9, \"A5\":.9, \"A6\":.7, \"A7\":.99, \"R1\":.95, \"C1\":.9, \"C2\":.8}"
   ]
  },
  {
   "cell_type": "code",
   "execution_count": 38,
   "metadata": {},
   "outputs": [],
   "source": [
    "#TODO: do something with this or remove\n",
    "def print_diag(diagnoses, preceeding = \"\"):\n",
    "    if len(diagnoses) == 0:\n",
    "        print(preceeding)\n",
    "    for diagnosis in diagnoses:\n",
    "        s = preceeding\n",
    "        for c in diagnosis:\n",
    "            s = s + \"%s = %s\"%(c[0], c[1])+\", \"\n",
    "        print(s)"
   ]
  },
  {
   "cell_type": "markdown",
   "metadata": {},
   "source": [
    "### Code Snippet 4: Kernel Diagnoses\n",
    "\n",
    "The conflict checking algorithm takes a set of inputs to the spaceship, and an observation of the thrust sensor output, and determines if the two are logically consistent. The current state of the spaceship is shown below."
   ]
  },
  {
   "cell_type": "code",
   "execution_count": 23,
   "metadata": {},
   "outputs": [
    {
     "name": "stdout",
     "output_type": "stream",
     "text": [
      "Conflict: X1 = 1, A2 = 1, A1 = 1\n",
      "KD: X1 = 0, \n",
      "KD: A2 = 0, \n",
      "KD: A1 = 0, \n",
      "A1 = 0, \n",
      "X1 = 0, \n",
      "A2 = 0, A3 = 0, \n",
      "A2 = 0, X2 = 0, \n"
     ]
    }
   ],
   "source": [
    "#TODO: Incorporate visualizations\n",
    "def update_kernel_diagnoses(kernel_diagnoses,conflict, visualize = False):\n",
    "    new_kernel_diagnoses = []\n",
    "    candidate_diagnoses = []\n",
    "    if len(kernel_diagnoses)==0:\n",
    "        for e in conflict:\n",
    "            new_kernel_diagnoses.append(set([(e[0],0)]))\n",
    "    else:\n",
    "        for k in kernel_diagnoses:\n",
    "            for c in conflict:\n",
    "                k_new = copy(k)\n",
    "                k_new.add((c[0],0))\n",
    "                if k_new not in new_kernel_diagnoses:\n",
    "                    new_kernel_diagnoses.append(k_new)\n",
    "        for i in range(len(new_kernel_diagnoses)):\n",
    "            nk = new_kernel_diagnoses.pop(0)\n",
    "            for ok in copy(new_kernel_diagnoses):\n",
    "                if nk.issubset(ok):\n",
    "                    new_kernel_diagnoses.remove(ok)            \n",
    "            new_kernel_diagnoses.append(nk)                            \n",
    "    return new_kernel_diagnoses\n",
    "\n",
    "conflict = set([('A1',1),('A2',1),('X1',1)])\n",
    "print_conf(conflict)\n",
    "kd = update_kernel_diagnoses([], conflict, True)\n",
    "print_diag(kd, \"KD: \")\n",
    "conflict = set([('A1',1),('A3',1),('X1',1),('X2',1)])\n",
    "kd = update_kernel_diagnoses(kd, conflict, True)\n",
    "print_diag(kd)"
   ]
  },
  {
   "cell_type": "code",
   "execution_count": 40,
   "metadata": {},
   "outputs": [],
   "source": [
    "#Moved to classes.py; will be deleted for submission\n",
    "class Spaceship():\n",
    "    def create_system(self):\n",
    "        system = []\n",
    "        system.append(\"A1 ==> (X1 <=>(P1&V1))\")\n",
    "        system.append(\"A2 ==> (X2 <=>(P2&V2))\")\n",
    "        system.append(\"A3 ==> (T1 <=>(X1&X2))\")\n",
    "        system.append(\"A4 ==> (X3 <=>(V3&P1))\")\n",
    "        system.append(\"A5 ==> (X4 <=>(V4&P2))\")\n",
    "        system.append(\"A6 ==> (T2 <=>(X3&X4))\")\n",
    "        system.append(\"A7 ==> (S1 <=>((T1&Y3)|(T2&Y3)))\")\n",
    "        system.append(\"R1 ==> (Y3 <=>((Y1|Y2)))\")\n",
    "        system.append(\"C1 ==> (Y1 <=>B1)\")\n",
    "        system.append(\"C2 ==> (Y2 <=>B2)\")\n",
    "        return system\n",
    "    \n",
    "    def update_colors(self):\n",
    "        #Draw good components in blue and unknown components in red\n",
    "        for c in self.components:\n",
    "            if self.components[c]._assignment == False:\n",
    "                self.comp_dict[c] = (*self.comp_dict[c][0:5],'r')\n",
    "            else:\n",
    "                self.comp_dict[c] = (*self.comp_dict[c][0:5],'c')\n",
    "    def __init__(self):\n",
    "        self.system = self.create_system()\n",
    "        self.inputs = {\"P1\":L(\"P1\",False),\n",
    "                      \"P2\":L(\"P2\",False),\n",
    "                      \"V1\":L(\"V1\",False),\n",
    "                      \"V2\":L(\"V2\",False),\n",
    "                      \"V3\":L(\"V3\",False),\n",
    "                      \"V4\":L(\"V4\",False),\n",
    "                      \"B1\":L(\"B1\",False),\n",
    "                      \"B2\":L(\"B2\",False),}\n",
    "        self.components = {\"A1\":L(\"A1\",True),\n",
    "                          \"A2\":L(\"A2\",True),\n",
    "                          \"A3\":L(\"A3\",True),\n",
    "                          \"A4\":L(\"A4\",True),\n",
    "                          \"A5\":L(\"A5\",True),\n",
    "                          \"A6\":L(\"A6\",True),\n",
    "                          \"A7\":L(\"A7\",True),\n",
    "                          \"R1\":L(\"R1\",True),\n",
    "                          \"C1\":L(\"C1\",True),\n",
    "                          \"C2\":L(\"C2\",True)}\n",
    "        \n",
    "        self.comp_dict = {\"A4\":(25,50,8,8,'k','c'),\n",
    "                 \"A1\":(5,65,8,8,'k','c'),\n",
    "                 \"A3\":(7.5,25,10,8,'k','c'),\n",
    "                 \"A2\":(10,55,8,8,'k','c'),\n",
    "                 \"A5\":(30,40,8,8,'k','c'),\n",
    "                 \"A6\":(27.5,25,10,8,'k','c'),\n",
    "                 \"A7\":(17.5,10,15,8,'k','c'),\n",
    "                 \"C2\":(65,65,8,8,'k','c'),\n",
    "                 \"C1\":(55,65,8,8,'k','c'),\n",
    "                 \"R1\":(60,40,15,8,'k','c'),\n",
    "                }\n",
    "        self.inp_dict = {\"P1\":(5,75, 'k'),\n",
    "               \"P2\":(30,75, 'k'),\n",
    "               \"V1\":(-15,65, 'k'),\n",
    "               \"V2\":(-15,55, 'k'),\n",
    "               \"V3\":(-15,48, 'k'),\n",
    "               \"V4\":(-15,40, 'k'),\n",
    "               \"B2\":(65,75, 'k'),\n",
    "               \"B1\":(50,75, 'k'),\n",
    "               \"X1\":(0,44,'g'),\n",
    "                \"X2\":(15,44,'b'),\n",
    "                \"X3\":(20,33,'g'),\n",
    "                \"X4\":(37,32,'b'),\n",
    "                \"T1\":(0,15,'r'),\n",
    "                \"T2\":(35,15,'r'),\n",
    "                \"Y1\":(50,50,'k'),\n",
    "                \"Y2\":(70,50,'k'),\n",
    "                \"Y3\":(65,20,'k'),\n",
    "                \"S1\":(18,-5,'k'),\n",
    "               }\n",
    "        self.line_dict = {\"l1\":([5,5],[73,68], 'g'),\n",
    "                \"l2\":([5,25, 25],[70,70, 53], 'g'),\n",
    "                \"l3\":([30,30],[73,43], 'b'),\n",
    "                \"l4\":([30,10, 10],[63,63,58], 'b'),\n",
    "                \"l5\":([30,30],[36,29], 'b'),\n",
    "                \"l6\":([25,25],[46,29], 'g'),\n",
    "                \"l7\":([10,10],[51,29], 'b'),\n",
    "                \"l8\":([5,5],[61,29], 'g'),\n",
    "                \"l9\":([-5,1],[65,65], 'k'),#V1 to A1\n",
    "                \"l10\":([-5,6],[55,55], 'k'),#V2 to A2\n",
    "                \"l11\":([-5,21],[48,48], 'k'),#V3 to A4\n",
    "                \"l12\":([-5,26],[40,40], 'k'),#V4 to A5\n",
    "                \"l13\":([7.5, 7.5, 12.5,12.5], [21, 18, 18,14], 'r'),#A3 to A7\n",
    "                \"l14\":([27.5, 27.5, 22.5,22.5], [21, 18, 18,14], 'r'),#A3 to A7\n",
    "                \"l15\":([65,65],[69,73],'k'),#B2 to C2\n",
    "                \"l16\":([55,55],[69,73],'k'),#B1 to C1\n",
    "                \"l17\":([65,65],[61,44],'k'),#B1 to C1\n",
    "                \"l18\":([55,55],[61,44],'k'),#B1 to C1\n",
    "                \"l19\":([60,60,25],[36,10,10],'k'),#R1 to A7\n",
    "                \"l20\":([18,18],[5,0],'k')\n",
    "                }\n",
    "    \n",
    "    def change_input(self,inp,new_value):\n",
    "        #Change the state of an input\n",
    "        self.inputs[inp] = L(inp,new_value)\n",
    "        \n",
    "    def change_component(self,comp,new_value):\n",
    "        #Change the state of a component\n",
    "        self.components[comp] = L(comp,new_value)\n",
    "        self.update_colors()\n",
    "        \n",
    "    def all_unknown(self):\n",
    "        #Set all components in the ship to unknown\n",
    "        for c in self.components:\n",
    "            self.change_component(c,False)\n",
    "            \n",
    "    def initialize(self):\n",
    "        #Turn on a nominally working set of valves\n",
    "        self.change_input(\"B1\",True)\n",
    "        self.change_input(\"P1\",True)\n",
    "        self.change_input(\"P2\",True)\n",
    "        self.change_input(\"V1\",True)\n",
    "        self.change_input(\"V2\",True)\n",
    "        \n",
    "    def make_sentance(self,structure):\n",
    "        #Make sentance specifically for dict data strucutres\n",
    "        s = \"\"\n",
    "        for e in structure:\n",
    "            a = structure[e]._name\n",
    "            val = structure[e]._assignment\n",
    "            if val:\n",
    "                c = a\n",
    "            else:\n",
    "                c = \"~\"+a\n",
    "            if s == \"\":\n",
    "                s = \"(\"+c+\")\"\n",
    "            else:\n",
    "                s += \"&(\"+c+\")\"\n",
    "        return s\n",
    "    def plot_spaceship(self):\n",
    "        #Draw the current state of the spaceship\n",
    "        plt.clf()\n",
    "        plt.axes()\n",
    "        ax = plt.gca()\n",
    "\n",
    "        for i in self.comp_dict:\n",
    "            t = self.comp_dict[i]\n",
    "            x = t[0]\n",
    "            y = t[1]\n",
    "            lx = t[2]\n",
    "            ly = t[3]\n",
    "            col = t[4]\n",
    "            ax.add_patch(plt.Rectangle((x-lx/2.,y-ly/2.), lx, ly,  fill=True,fc=t[5], ec=col))\n",
    "            plt.text(x,y,i, fontsize = 18, horizontalalignment = \"center\",verticalalignment = \"center\")\n",
    "\n",
    "        for i in self.inp_dict:\n",
    "            t = self.inp_dict[i]\n",
    "            x = t[0]\n",
    "            y = t[1]\n",
    "            if i in self.inputs:\n",
    "                ps = i + \"=\" + str(int(self.inputs[i]._assignment))\n",
    "            else:\n",
    "                ps = i\n",
    "                    \n",
    "            plt.text(x,y,ps,fontsize=18,color=t[2], horizontalalignment = \"center\",verticalalignment = \"center\")\n",
    "\n",
    "        for l in self.line_dict:\n",
    "            t = self.line_dict[l]\n",
    "            plt.plot(t[0], t[1], color = t[2])\n",
    "\n",
    "\n",
    "        #plt.axis('scaled')\n",
    "        plt.xlim(-10,80)\n",
    "        plt.axis('off')\n",
    "        plt.show()\n",
    "    def check_conflicts(self,observations):\n",
    "        #Check if the current state of the spaceship is in conflict\n",
    "        #Returns true if a set of inputs, component assignments, and observations is a conflict for a given system\n",
    "        snt = make_sentance(self.system)+\"&\"+self.make_sentance(self.components)+\"&\"+self.make_sentance(self.inputs)\n",
    "        clauses, true_statements = unit_propagation(snt)\n",
    "        obs = conjuncts(to_cnf(observations))\n",
    "        \n",
    "        not_obs = []\n",
    "\n",
    "        for o in obs:\n",
    "            not_obs = (to_cnf(~o))\n",
    "            if not_obs in true_statements:\n",
    "                return True\n",
    "\n",
    "        return False\n",
    "\n",
    "    \n",
    "     \n",
    "s = Spaceship()\n",
    "s.initialize()\n",
    "s.all_unknown()"
   ]
  },
  {
   "cell_type": "code",
   "execution_count": 41,
   "metadata": {},
   "outputs": [],
   "source": []
  },
  {
   "cell_type": "code",
   "execution_count": 42,
   "metadata": {},
   "outputs": [
    {
     "data": {
      "image/png": "[encoded data removed]",
      "text/plain": [
       "<Figure size 432x288 with 1 Axes>"
      ]
     },
     "metadata": {
      "needs_background": "light"
     },
     "output_type": "display_data"
    },
    {
     "data": {
      "text/plain": [
       "False"
      ]
     },
     "execution_count": 42,
     "metadata": {},
     "output_type": "execute_result"
    }
   ],
   "source": []
  },
  {
   "cell_type": "code",
   "execution_count": null,
   "metadata": {},
   "outputs": [],
   "source": []
  },
  {
   "cell_type": "code",
   "execution_count": null,
   "metadata": {},
   "outputs": [],
   "source": []
  },
  {
   "cell_type": "code",
   "execution_count": null,
   "metadata": {},
   "outputs": [],
   "source": []
  },
  {
   "cell_type": "code",
   "execution_count": null,
   "metadata": {},
   "outputs": [],
   "source": []
  },
  {
   "cell_type": "code",
   "execution_count": null,
   "metadata": {},
   "outputs": [],
   "source": []
  },
  {
   "cell_type": "code",
   "execution_count": null,
   "metadata": {},
   "outputs": [],
   "source": []
  },
  {
   "cell_type": "code",
   "execution_count": null,
   "metadata": {},
   "outputs": [],
   "source": []
  },
  {
   "cell_type": "code",
   "execution_count": null,
   "metadata": {},
   "outputs": [],
   "source": []
  },
  {
   "cell_type": "code",
   "execution_count": null,
   "metadata": {},
   "outputs": [],
   "source": []
  },
  {
   "cell_type": "code",
   "execution_count": null,
   "metadata": {},
   "outputs": [],
   "source": []
  },
  {
   "cell_type": "code",
   "execution_count": null,
   "metadata": {},
   "outputs": [],
   "source": []
  },
  {
   "cell_type": "code",
   "execution_count": null,
   "metadata": {},
   "outputs": [],
   "source": []
  },
  {
   "cell_type": "code",
   "execution_count": null,
   "metadata": {},
   "outputs": [],
   "source": []
  },
  {
   "cell_type": "code",
   "execution_count": null,
   "metadata": {},
   "outputs": [],
   "source": []
  },
  {
   "cell_type": "code",
   "execution_count": null,
   "metadata": {},
   "outputs": [],
   "source": []
  },
  {
   "cell_type": "code",
   "execution_count": null,
   "metadata": {},
   "outputs": [],
   "source": []
  }
 ],
 "metadata": {
  "kernelspec": {
   "display_name": "Python 3",
   "language": "python",
   "name": "python3"
  },
  "language_info": {
   "codemirror_mode": {
    "name": "ipython",
    "version": 3
   },
   "file_extension": ".py",
   "mimetype": "text/x-python",
   "name": "python",
   "nbconvert_exporter": "python",
   "pygments_lexer": "ipython3",
   "version": "3.7.1"
  }
 },
 "nbformat": 4,
 "nbformat_minor": 2
}
