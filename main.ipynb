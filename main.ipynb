{
 "cells": [
  {
   "cell_type": "markdown",
   "metadata": {},
   "source": [
    "# Logic and Model-Based Reasoning"
   ]
  },
  {
   "cell_type": "code",
   "execution_count": null,
   "metadata": {},
   "outputs": [],
   "source": [
    "from utils import *\n",
    "from logic import *\n",
    "from copy  import *\n",
    "from classes import *\n",
    "import matplotlib.pyplot as plt\n",
    "from IPython.display import clear_output\n",
    "from collections import Iterable"
   ]
  },
  {
   "cell_type": "markdown",
   "metadata": {},
   "source": [
    "A critical attribute of a well-design complex system is the ability for it to detect, diagnose, and recover from off-nominal conditions, such as component failures or unexpected sensor readings.  In many situations (deep space probes, autonomous undersea vehicles) there is no potential for human intervention to help diagnose or reconfigure the system; that process must be able to happen automatically.  This notebook describes the elements of model-based reasoning, which is one powerful way for systems to reason about, and correct for, any failures that occur.  The basic idea is that the system compares observations of it's behavior to a model which predicts what the behavior should be, given the current state of the system.  If there is a discrepancy, logical inference is used to determine the most likely causes.  This note book describes the fundamental rules of logical inference, the process by which logical reasoning takes place, and the mechanics of how the system checks for conflicts and determines likely failures. "
   ]
  },
  {
   "cell_type": "markdown",
   "metadata": {},
   "source": [
    "## **Propositional Logic**\n",
    "\n",
    "Propositional logic is a formal language that is used to represent information, in order to reason about the truth and implications of various statements.  The basic element of this language is a **proposition**, which is a simple true or false statement, or equivallently an assignment to one of the domain variables that make up the system being modeled. Logical **sentences** are created by combining propositions using various boolean operators.  The three fundamental boolean operators are **and**, **or**, and **not**. The truth table for these operations is shown below. \n",
    "\n",
    "| A | B | A **and** B | A **or** B | **not** A |\n",
    "|:-:|:-:|:-------:|:------:|:-----:|\n",
    "| T | T | T | T      | F     |\n",
    "| T | F | F | T      | F     |\n",
    "| F | T | F | T      | T     |\n",
    "| F | F | F | F      | T     |\n",
    "\n",
    "There are other boolean operators that are commonly used, but all can be reduced to some combination of the three fundamental operators.  Some of the more useful are **implies**, **iff**, and **xor**. \n",
    "\n",
    "The **implies** operation means that if A is true B must be true, but if A is false B may be true or false.  **iff**, or \"if and only if\", means that if A is true B must be true, and vice versa.  **xor** means that either A or B, but not both, must be true. The truth tables for these operations are shown below.  \n",
    "\n",
    "| A | B | A **implies** B | A **iff** B | A **xor** B |\n",
    "|:-:|:-:|:-------:|:------:|:-----:|\n",
    "| T | T |    T    |    T   |   F   |\n",
    "| T | F |    F    |    F   |   T   |\n",
    "| F | T |    T    |    F   |   T   |\n",
    "| F | F |    T    |    T   |   F   |\n",
    "\n",
    "***Note on syntax:***\n",
    "\n",
    "The symbols that will be used to represent each operator are shown in the table below. \n",
    "\n",
    "| Operator | Markdown | Code | \n",
    "|:-:|:-:|:-------:|\n",
    "| **and** | $\\wedge$ |&|\n",
    "| **or** | $\\vee$ |$|$|\n",
    "|**not** | $\\neg$|~|\n",
    "|**implies** |$\\rightarrow$|==>, >>|\n",
    "|**iff** | $\\iff$ |    <=>    |\n",
    "\n",
    "THe **interpretation** of a logical sentence is an assignment to all of the variables that make up that sentence.  If, for a given interpretation, the sentence is true than that interpretation is said to be a **model** of the sentence.  A sentence is **satisfiable** if *at least one* model of the sentence exists.  A sentence is **valid** if *any* interpretation is a model. A sentence *s* is **entailed** by a knowledge base KB (a combination of sentences already known to be true) iff it is true for all models KB (i.e. a model of KB is also a valid model of a).\n",
    "\n",
    "To check for satisfiability of a logical sentence, it is useful to reduce it to **Conjunctive Normal Form (CNF)**.  CNF consists of **literals** - propositions or their negations - and **clauses**, which are literals combined by \"or\".  A sentence is CNF is a set of clauses combined by \"and\".  CNF is useful because it allows rapid algorithmic checking for satisfiability or entailment.  This can be done using **resolution**, which combines clauses into a more compact for by eliminating any complementary literals (such as $A$ and $\\neg A$).\n",
    "\n",
    "**Resolution:** $\\frac{(A\\vee B)\\wedge(\\neg A\\vee C)}{(A\\vee C}$\n",
    "\n",
    "For example, resolution can be used to show whether a set of clauses in CNF is entailed by some knowledge base KB.  All known elements of the knowledge base are substituted into the clausal expression, and then resolution is repeatedly applied until there are no clauses left (in which case the original set of clauses is entailed by the KB), or until no more resolution steps can be applied (in which case the original set of clauses is not entailed by the KB)\n",
    "\n",
    "To reduce a given sentence to CNF there are several useful identities or rules of propositional logic. \n",
    "\n",
    "**Implies and IFF**\n",
    "\n",
    "$(A \\rightarrow B) => (\\neg A) \\vee (B)$\n",
    "\n",
    "$(A \\iff B) => (A \\rightarrow B)\\wedge(B \\rightarrow A)$\n",
    "\n",
    "**De Morgan’s Theorem**\n",
    "\n",
    "$\\neg(A \\wedge B) => (\\neg A) \\vee (\\neg B)$\n",
    "\n",
    "$\\neg(A \\vee B) => (\\neg A) \\wedge (\\neg B)$\n",
    "\n",
    "**Distribution**\n",
    "\n",
    "$A \\vee (B\\wedge C) => (A\\vee B) \\wedge (A \\vee C)$\n",
    "\n",
    "$A \\wedge (B\\vee C) => (A\\wedge B) \\vee (A \\wedge C)$\n",
    "\n",
    "**Association**\n",
    "\n",
    "$A \\vee (B\\vee C) => (A \\vee B)\\vee C$\n",
    "\n",
    "$A \\wedge (B\\wedge C) => (A\\wedge B) \\wedge C$\n",
    "\n",
    "**Commutation**\n",
    "\n",
    "$A \\vee B => B\\vee A$\n",
    "\n",
    "$A \\wedge B => B\\wedge A$"
   ]
  },
  {
   "cell_type": "markdown",
   "metadata": {},
   "source": [
    "### Code Snippet 0: Practice reducing sentences to CNF\n",
    "The cell below will reduce logical sentences to CNF using the function to_cnf(s).  This is useful to check practice problems.  \n",
    "\n",
    "The input should be in the form of a logical sentence s = \"((A&B)|C)&(D==>E)\".  Use paraenthesis to denote order of operations.  The flag SHOW controls how much of the process is displayed. \n",
    "\n",
    "SHOW = False: Output is only final answer. This is the default.\n",
    "\n",
    "SHOW = True: Output shows each step in the reduction process\n",
    "\n",
    "This function uses the logic.py library distributed with the AIMA textbook, updated to be compatible with Python 3.x\n",
    "Source: http://aima.cs.berkeley.edu/\n"
   ]
  },
  {
   "cell_type": "code",
   "execution_count": null,
   "metadata": {},
   "outputs": [],
   "source": [
    "SHOW = True\n",
    "s = \"my_logical_sentence\"\n",
    "to_cnf(s, SHOW)"
   ]
  },
  {
   "cell_type": "markdown",
   "metadata": {},
   "source": [
    "#### Examples "
   ]
  },
  {
   "cell_type": "code",
   "execution_count": null,
   "metadata": {},
   "outputs": [],
   "source": [
    "#Remove implication\n",
    "s = \"A==>B\"\n",
    "to_cnf(s)"
   ]
  },
  {
   "cell_type": "code",
   "execution_count": null,
   "metadata": {},
   "outputs": [],
   "source": [
    "#Remove iff\n",
    "s = \"A<=>B\"\n",
    "to_cnf(s)"
   ]
  },
  {
   "cell_type": "code",
   "execution_count": null,
   "metadata": {},
   "outputs": [],
   "source": [
    "#Distribution\n",
    "s = \"(A&B)|(C&D)\"\n",
    "to_cnf(s)"
   ]
  },
  {
   "cell_type": "code",
   "execution_count": null,
   "metadata": {},
   "outputs": [],
   "source": [
    "s = \"(A<=>B)&(B==>C)\"\n",
    "to_cnf(s, True)"
   ]
  },
  {
   "cell_type": "code",
   "execution_count": null,
   "metadata": {},
   "outputs": [],
   "source": [
    "s = \"(A<=>B)|~(D&C)\"\n",
    "to_cnf(s, True)"
   ]
  },
  {
   "cell_type": "code",
   "execution_count": null,
   "metadata": {},
   "outputs": [],
   "source": [
    "#HW 9 Problems - [For test should probably delete for submission]\n",
    "#B.1\n",
    "SHOW_STEPS = True\n",
    "s = \"~((~A&B)|(C&D))\"\n",
    "to_cnf(s, SHOW_STEPS)\n",
    "#B.2\n",
    "s = \"A<=>A\"\n",
    "to_cnf(s, SHOW_STEPS)\n",
    "#B.3\n",
    "s = \"(A<=>B)|C\"\n",
    "to_cnf(s, SHOW_STEPS)\n",
    "SHOW_STEPS = True\n",
    "s = \"~((~A&B)|(C&D))\"\n",
    "to_cnf(s, SHOW_STEPS)"
   ]
  },
  {
   "cell_type": "markdown",
   "metadata": {},
   "source": [
    "## **Propositional Satisfiability**\n",
    "\n",
    "One common type of problem in propositional logic are propositional satisfiability problems; finding the set of propositions P that satisfy a sentence $\\Phi$.  One of the most common ways of solving these problems is a search algorithm (DPLL) which combines backtrack search with **unit propagation**.\n",
    "\n",
    "### Code Snippet 1: Unit Propagation\n",
    "Unit propagation is the repeated application of the rule that, if all literals in a clause are false except L, then L must be true.  For a large set of clauses, that can be used repeatedly to solve for multiple variables. \n",
    "\n",
    "Given A = T, B = F, and the clause $(\\neg A \\vee B \\vee C)$, unit propagation implies that the literal C must be true sice the literals $\\neg A$ and $B$ are both false. \n",
    "\n",
    "A demonstration of unit propagation starts with a logical sentence s."
   ]
  },
  {
   "cell_type": "code",
   "execution_count": null,
   "metadata": {},
   "outputs": [],
   "source": [
    "s = \"~((~A&B)|(~C&D)|C|B)\""
   ]
  },
  {
   "cell_type": "markdown",
   "metadata": {},
   "source": [
    "The first step is to reduce the sentence to a set of clauses in CNF. "
   ]
  },
  {
   "cell_type": "code",
   "execution_count": null,
   "metadata": {},
   "outputs": [],
   "source": [
    "clauses = conjuncts(to_cnf(s))\n",
    "print(clauses)"
   ]
  },
  {
   "cell_type": "markdown",
   "metadata": {},
   "source": [
    "To find a valid model of the sentence, all clauses must be true.  We want the unit propagation algorithm to return all the literals of the systems it can prove are true or false according to the sentence.  This may or may not be a full assignment across all literals.  It should also return a new sentence that compactly represents the remaining clauses - the set of clauses which cannot be reduced further by the algorithm.   "
   ]
  },
  {
   "cell_type": "code",
   "execution_count": null,
   "metadata": {},
   "outputs": [],
   "source": [
    "# Returns reduced clauses,a set of propositions that are true, support for those propositions, and the original set of clauses\n",
    "# If ~X must be True, then X=False, and ~X shows up in the set of true \n",
    "def unit_propagation(s, show = False):\n",
    "    clauses = check_input(s)\n",
    "    org_clauses = copy(clauses)\n",
    "    if show: \n",
    "        print(\"Initial sentance in CNF form:\")\n",
    "        for i,c in enumerate(clauses):\n",
    "            print(\"Clause %i:%s\"%(i,c))\n",
    "    \n",
    "    repeat = True # this unit propagation function repeats until no changes \n",
    "    false_exp = [] #List of literals known to be false\n",
    "    true_exp = [] #List of literals known to be true (inverse of false_exp, created here for convenience)\n",
    "    support = []\n",
    "    while repeat: #Repeat the unit propagation steps until the clauses can't be reduced further\n",
    "        repeat = False\n",
    "        for i,c in enumerate(clauses): #For each clause in the sentence\n",
    "            if len(c.args) <= 1 and len(clauses) > 0: #if the clause contains a single literal/the list isn't empty\n",
    "                cc = copy(c) #Create a copy of that literal\n",
    "                if cc not in true_exp: #Check that the literal hasn't already been saved\n",
    "                    if show: print(\"We know %s to be true via clause %s\"%(cc,i))\n",
    "                    true_exp.append(cc) #Add that literal to the list of true literals\n",
    "                    support.append(i)\n",
    "                    false_exp.append(to_cnf(~cc)) #Add the negation of that literal to the list of false literals\n",
    "                    repeat = True #Repeat the entire loop; since a new literal has been proven we may be able to \n",
    "                                  #propagate more\n",
    "                \n",
    "        for e in true_exp: #For every literal we know to be true...\n",
    "            if e in clauses: clauses.remove(e) #Remove that literal from clauses where it appears. \n",
    "            \n",
    "        for c in clauses: #For each clause in the sentence \n",
    "            for fe in false_exp: #For each literal we know to be false\n",
    "                if fe in copy(c.args): #If that literal is in the clause \n",
    "                    if c.op != \"~\": #(Syntatic check)\n",
    "                        c.args.remove(fe) #Remove that literal from the clause\n",
    "        clauses = trim_or(clauses) #Clean up syntax\n",
    "    return clauses, true_exp, support, org_clauses\n",
    "\n",
    "s = \"(A1 ==> (X1 <=>(P1&V1)))&P1&~V1&A1\"\n",
    "out = unit_propagation(s, True)"
   ]
  },
  {
   "cell_type": "markdown",
   "metadata": {},
   "source": [
    "### Code Snippet 2: DPLL \n",
    "\n",
    "The DPLL algorithm works as follows:\n",
    "\n",
    "First, an initial unit propagation.\n",
    "\n",
    "Then, repeatedly: \n",
    "1. Assign value to unassigned proposition\n",
    "2. Unit propagate \n",
    "3. Backtrack whenever clause is violated\n",
    "4. If complete assignment, satisfiable. \n",
    "\n",
    "\n",
    "Unit propagation assigns values to propositions that need to equal a certain value in order for the clause to satisfy. Here's an example:"
   ]
  },
  {
   "cell_type": "code",
   "execution_count": null,
   "metadata": {},
   "outputs": [],
   "source": [
    "formula = AND.from_string_to_cnf(\"( X & ( Y | Z ) )\") \n",
    "formula.unit_propagate().print()"
   ]
  },
  {
   "cell_type": "markdown",
   "metadata": {},
   "source": [
    "Notice how there is an unassigned clause but that unit propagation cannot proceed. The next step is to arbitrarily assign one of the variables, keeping the record as a support, and proceed to see whether we have a model."
   ]
  },
  {
   "cell_type": "code",
   "execution_count": null,
   "metadata": {},
   "outputs": [],
   "source": [
    "def assign_next(formula):\n",
    "    for or_clause in formula:\n",
    "        for literal in or_clause:\n",
    "            if literal.assignment is None:\n",
    "                literal.assign(False)\n",
    "                return formula\n",
    "\n",
    "formula = AND.from_string_to_cnf(\"(Y | Z) & (Z | X)\")\n",
    "formula.literals_by_name[\"Y\"].assign(True)\n",
    "formula.unit_propagate().print()\n",
    "\n",
    "print(\"here you can see unit propagation has no where to continue...\")\n",
    "print(\"Instead we perform a DPLL step.\")\n",
    "\n",
    "assign_next(formula).print()\n",
    "\n",
    "formula.unit_propagate().print()\n",
    "print(\"And unit propagation can finish the job!\")"
   ]
  },
  {
   "cell_type": "markdown",
   "metadata": {},
   "source": [
    "On the other hand, see what happens when you need to backtrack!"
   ]
  },
  {
   "cell_type": "code",
   "execution_count": null,
   "metadata": {},
   "outputs": [],
   "source": [
    "formula = AND.from_string_to_cnf(\" X & (Y | Z) & (Y | ~Z)\") \n",
    "formula.unit_propagate().print()\n",
    "print(\"X is equal to True by unit propagation...\")\n",
    "assign_next(formula).print()\n",
    "print(\"Y is assigned False by guess... but watch what happens\")\n",
    "formula.unit_propagate().print()\n",
    "print(\"Unit propagation doesn't know any better, it's just been driven into a corner!\")"
   ]
  },
  {
   "cell_type": "markdown",
   "metadata": {},
   "source": [
    "We should have guessed **True** for Y! We need a way to back up and guess again!"
   ]
  },
  {
   "cell_type": "code",
   "execution_count": null,
   "metadata": {},
   "outputs": [],
   "source": [
    "class DPLL:\n",
    "    def __init__(self, formula):\n",
    "        self._formula = copy(formula)\n",
    "        self._formula.unit_propagate()\n",
    "        self._literal_assigned = None\n",
    "\n",
    "    def assign_next(self):\n",
    "        for literal in AND.get_literals(self._formula):\n",
    "            if literal.assignment is None:\n",
    "                self._literal_assigned = literal\n",
    "                literal.assign(False)\n",
    "                return\n",
    "\n",
    "    # returns False if already on second assignment\n",
    "    def try_other_assignment(self):\n",
    "        if self._literal_assigned.assignment is False:\n",
    "            self._literal_assigned.assign(True)\n",
    "            return True\n",
    "        elif self._literal_assigned is True:\n",
    "            return False\n",
    "\n",
    "    def solve(self, print_nicely=False):\n",
    "        if print_nicely: print(\"Hi! I'm a new DPLL working on: \" + str(self._formula))\n",
    "\n",
    "        if self._formula.is_satisfied:\n",
    "            if print_nicely: print(\"We've found a solution! It was a pleasure to serve you.\")\n",
    "            return self._formula\n",
    "        elif self._formula.is_complete:\n",
    "            if print_nicely: print(\"Drats, this isn't a solution. Good luck!\")\n",
    "            return None\n",
    "\n",
    "        self.assign_next()\n",
    "        if print_nicely: print(\"I'm trying assignment: \" + str(self._literal_assigned))\n",
    "        sub_solve = DPLL(self._formula).solve(print_nicely)\n",
    "        if sub_solve is None:\n",
    "            self.try_other_assignment()\n",
    "            if print_nicely: print(\"Woops! That didn't work. I'm instead trying: \" + str(self._literal_assigned))\n",
    "            sub_solve = DPLL(self._formula).solve(print_nicely)\n",
    "        if sub_solve is None:\n",
    "            if print_nicely: print(\"Shux, no more assignments possible, see ya later!\")\n",
    "            return None\n",
    "\n",
    "        return sub_solve\n",
    "    \n",
    "    \n",
    "formula = AND.from_string_to_cnf(\" X & (Y | Z) & (Y | ~Z)\")\n",
    "DPLL(formula).solve(print_nicely=True).print()"
   ]
  },
  {
   "cell_type": "markdown",
   "metadata": {},
   "source": [
    "In this DPLL implementation we run equivalently to depth first search, and find the first solution (when there is one!). DPLL's goal is to show satisfiability. \n",
    "\n",
    "Above you can see DPLL trying a different assignment when its first guess didn't work. In accordance with the algorithm, DPLL calls unit_propagate before and after each search. "
   ]
  },
  {
   "cell_type": "markdown",
   "metadata": {},
   "source": [
    "## Boolean Spaceship Example\n",
    "\n",
    "The rest of the notbook will be based on the boolean spaceship example, shown diagramatically below.  \n",
    "\n",
    "![title](overview.jpeg)\n",
    "\n",
    "This spaceship consists of some propellant tanks, valves, batteries, two thrusters, and a thrust sensor(it's a very narcissistic spaceship).  \n",
    "\n",
    "P1 and P2 correspond to the propellant tanks (P1 = 1, propellant is flowing. P1 = 0, propellant is off). \n",
    "\n",
    "A1,A2, A4, and A5 are valves, controlled by V1-V4.  \n",
    "\n",
    "A3 and A6 are the thrusters, which produce thrust if X1 and X2 or X3 and X4 have propellant in them (X1 = 1).  \n",
    "\n",
    "A7 is the thrust sensor, which senses thrust if Y3 and (T1 or T2) is present.  \n",
    "\n",
    "S1 is the sensor output. \n",
    "\n",
    "B1 and B2 are the controls to turn the batteries on and off (B1 = 0) is battery off.  \n",
    "\n",
    "C1 and C2 are the battery components, which are logical pass-thru gates.  If C1 is working, B1 = Y1. \n",
    "\n",
    "R1 is an XOR gate which represents a power conditioning system; it gives power to the sensor if Y1 or Y2 is true, but not of both are true. \n",
    "\n",
    "Components which are Unknown are shown in red; components which are Good are shown in blue.\n"
   ]
  },
  {
   "cell_type": "code",
   "execution_count": null,
   "metadata": {},
   "outputs": [],
   "source": [
    "s = Spaceship() #The Spaceship class is a handy container for holding all the variables and helper functions. \n",
    "                #Some of the code described here for clarity is also implemented in this class. \n",
    "s.plot_spaceship()"
   ]
  },
  {
   "cell_type": "markdown",
   "metadata": {},
   "source": [
    "The spaceship is represented by three sets of logical statements.  The first is shown below, and it maps the component variables A1-7, R1, and C1 and C2 to the correct functioning of their componenets.  These statements map how, if a component is functioning correctly, it should behave."
   ]
  },
  {
   "cell_type": "code",
   "execution_count": null,
   "metadata": {},
   "outputs": [],
   "source": [
    "system = []\n",
    "system.append(\"A1 ==> (X1 <=>(P1&V1))\") #A1 working implies X1 iff (P1 and V1)\n",
    "system.append(\"A2 ==> (X2 <=>(P2&V2))\")\n",
    "system.append(\"A3 ==> (X3 <=>(V3&P1))\")\n",
    "system.append(\"A4 ==> (X4 <=>(V4&P2))\")\n",
    "system.append(\"A5 ==> (T1 <=>(X1&X2))\")\n",
    "system.append(\"A6 ==> (T2 <=>(X3&X4))\")\n",
    "system.append(\"A7 ==> (S1 <=>((T1&Y3)|(T2&Y3)))\") #A7 working implies S1 iff (T1 and Y3) or (T2 and Y3)\n",
    "system.append(\"R1 ==> (Y3 <=>((Y1|~Y2)|(~Y2|Y1)))\") #R1 working implies Y3 iff (Y1 xor Y2)\n",
    "system.append(\"C1 ==> (Y1 <=>B1)\") #C1 working implies Y1 iff B1\n",
    "system.append(\"C2 ==> (Y2 <=>B2)\")\n",
    "\n",
    "print(\"\\n\".join(system))\n",
    "s.system = system"
   ]
  },
  {
   "cell_type": "markdown",
   "metadata": {},
   "source": [
    "The next set of statements represents the components in the system.  True/False assignments to these variables correspond to the Good/Unknown states of each component.  If all components are functioning, we can use unit propgation to express our system as more compact set of clauses linking the inputs to the outputs.  Without any inputs, we still can't make any inferences about the hidden or final states of the system. However, it is easy for the DPLL algorithm to find a state that satisfies the system (although it isn't a very interesting one)."
   ]
  },
  {
   "cell_type": "code",
   "execution_count": null,
   "metadata": {},
   "outputs": [],
   "source": [
    "from utils import *\n",
    "from classes import *\n",
    "s.all_working() #All components functioning\n",
    "\n",
    "#To make a component non-functional, use the following method:\n",
    "s.change_component(\"A1\", False)\n",
    "\n",
    "s.change_component(\"A1\", True) #makes it functional again\n",
    "\n",
    "#Formate the description of the system\n",
    "sp = to_cnf(make_sentence(system)+\"&\"+s.make_sentence(s.components))\n",
    "formula = AND.from_string_to_cnf(sp)\n",
    "\n",
    "#Use DPLL to find a valid mode assignment\n",
    "true_exp = DPLL(formula).solve(print_nicely=False).true_exp\n",
    "\n",
    "s.update_states(true_exp) #Update the state of the spaceship to reflect what we know to be true\n",
    "s.plot_spaceship()\n"
   ]
  },
  {
   "cell_type": "markdown",
   "metadata": {},
   "source": [
    "We can see the DPLL algorithm arbitrarily made the choice to close all the valves, which is logically consistent but not that interesting. Finally, we can assign more interesting states to the inputs of the system. With all inputs fully assigned, we can use unit propagation/DPLL to determine the final state of the system S1.  "
   ]
  },
  {
   "cell_type": "code",
   "execution_count": null,
   "metadata": {},
   "outputs": [],
   "source": [
    "#Propellant on\n",
    "s.change_input(\"P1\",True)\n",
    "s.change_input(\"P2\",True)\n",
    "\n",
    "#Battery 1 on\n",
    "s.change_input(\"B1\",True)\n",
    "\n",
    "#Battery 2 off\n",
    "s.change_input(\"B2\",False)\n",
    "\n",
    "#Valve 1 and 2 open\n",
    "s.change_input(\"V1\",True)\n",
    "s.change_input(\"V2\",True)\n",
    "\n",
    "#Valve 2 and 3 closed\n",
    "s.change_input(\"V3\",False)\n",
    "s.change_input(\"V4\",False)\n",
    "\n",
    "sp = to_cnf(make_sentence(system)+\"&\"+s.make_sentence(s.components)+\"&\"+s.make_sentence(s.inputs))\n",
    "formula = AND.from_string_to_cnf(sp)\n",
    "true_exp = DPLL(formula).solve(print_nicely=False).true_exp\n",
    "s.update_states(true_exp)\n",
    "s.plot_spaceship()"
   ]
  },
  {
   "cell_type": "markdown",
   "metadata": {},
   "source": [
    "## Consistency-Based Diagnosis\n",
    "But what if we observe something that is not consistent with our current model? For example, suppose we don't observe any thrust on the thrust sensor (S1 = False or ~S1), even though our current model implies that it should be there (S1 = True, or S1). We would like to reason about what are the most likely failed components in our system.\n",
    "\n",
    "The **mode** of a system is an assignment to all the mode, or component, variables of a system.  Each mode variable X represents the functioning of a component, and can be assigned either Good or Unknown.  In our spaceship example, the variabels A1-A7, R1, and C1-C2 are the mode variables.  An assignment of True indicates a working component, and 0 indicates a component in the unknown state.In consistency-based diagnosis, there are no assumptions that need be made about how a component fails. \n",
    "\n",
    "To determine which components may or may not be functioning, we look for **conflicts**, which are when observations of the inputs and outputs of the system don't match what would logically follow from the current mode assignment of the system. A conflict is a mode assignment to all the component variables of the system (A1-A7, C1-C2, R1), assigning them to either the good (1) or unknown (0) state. \n",
    "\n",
    "- **Symptom**: The discrepency between the value you expect and the value you find.\n",
    "- **Conflict**: The set of components that are involved in a symptom. Generally found using heuristics.  This is a mode assignment to the system component variables known to be in conflict with the observations of the system. \n",
    "- **Diagnoses**: The inverse of a conflict (sometime colloquially used interchangably with conflicts).  This is a mode assignment to the system that, for the same set of inputs as a conflict, removes the logical inconsistency with the observations. For example, if components A1-A3 being good (A1-A3=1) are inconsistent with some observations, then A1-A3=0 is a valid diagnosis if removing the constraints associated with those components eliminates the inconsistency with the observations. \n",
    "- **Kernel diagnoses**: If you have multiple diagnoses, you can find all minimal combinations of conflicting components that explain your data. They're helpful because the act as a (good!) huersitic for determining resolutions. \n",
    "- **Resolution**: A bold claim that these are the components that have failed in your system. **May or may not be accurate!** You have to run DPLL to find out on your own system.  (Not sure this is accurate; do we use this anywhere?)\n",
    "  Usually you'll want to iterate through your resolutions in probability order, given a prior probability of component failure.\n",
    "- **Component**: Well, you know, the parts the circuit is made of.\n",
    "- **Mode**: The status of an individual component, as in \"Mode Identification\"\n",
    "- **Model**: The truth values assigned to the propositions in a logic sentence evaluating to True.\n"
   ]
  },
  {
   "cell_type": "markdown",
   "metadata": {},
   "source": [
    "### Code Snippet 3: Conflict Checking\n",
    "\n",
    "The conflict checking algorithm takes a set of inputs to the spaceship, and an observation of the system, and determines if the two are logically consistent. This is done using the unit propgation/DPLL algorithm and logical inference methods described above. If the observations violate any clauses shown to be true using those methods, then the mode assignment is a conflict.  For this example, the current state of the spaceship is shown below."
   ]
  },
  {
   "cell_type": "code",
   "execution_count": null,
   "metadata": {},
   "outputs": [],
   "source": [
    "s = Spaceship()\n",
    "s.all_working() #Sets \n",
    "s.change_input(\"P1\", True)\n",
    "s.change_input(\"P2\", True)\n",
    "s.change_input(\"V1\", True)\n",
    "s.change_input(\"V2\", True)\n",
    "s.change_input(\"V3\", False)\n",
    "s.change_input(\"V4\", False)\n",
    "s.change_input(\"B1\", True)\n",
    "s.change_input(\"B2\", False)\n",
    "s.plot_spaceship()"
   ]
  },
  {
   "cell_type": "markdown",
   "metadata": {},
   "source": [
    "For this state of the system, suppose we don't observe any thrust (S1 = 0).  Is this in conflict with our model? Let's find out..."
   ]
  },
  {
   "cell_type": "code",
   "execution_count": null,
   "metadata": {},
   "outputs": [],
   "source": [
    "observations = \"~S1\" #Suppose we don't observe any thrust on our thrust sensor\n",
    "inputs = s.make_sentence(s.inputs)\n",
    "s.all_working()\n",
    "components = s.make_sentence(s.components)\n",
    "\n",
    "def check_conflicts(inputs,components,observations, system):\n",
    "    #Returns true if a set of inputs, component assignments, and observations is a conflict for a given system\n",
    "    \n",
    "    s = make_sentence(system)+\"&\"+components+\"&\"+inputs #Syntax; formatting everything in CNF\n",
    "    formula = AND.from_string_to_cnf(to_cnf(to_cnf(s)))\n",
    "    true_statements = DPLL(formula).solve(print_nicely=False).true_exp\n",
    "    #clauses, true_statements = unit_propagation(s) #Perform unit propagation on the current state of the system\n",
    "    obs = conjuncts(to_cnf(observations)) #Make sure our observations are in cnf, and split into clauses\n",
    "\n",
    "    for o in obs: #For each observation we have\n",
    "        not_obs = (to_cnf(~o)) #Look at the negation of that observation\n",
    "        if str(not_obs) in true_statements: #If our model shows that to be true...\n",
    "            return True #Then there is a conflict\n",
    "        \n",
    "    return False #Otherwise there is not\n",
    "\n",
    "conflicts = check_conflicts(inputs,components,observations, system)\n",
    "print(\"Checking to see if we can find a model, we have determined the presence of conflicts is.. \" + str(conflicts))"
   ]
  },
  {
   "cell_type": "markdown",
   "metadata": {},
   "source": [
    "The code below let's you test different spaceship states for conflicts. For example, type \"A1,A2,A3,A7,C1,R1\" into the box to check the case above.  The inputs and observations can be changed as well."
   ]
  },
  {
   "cell_type": "code",
   "execution_count": null,
   "metadata": {},
   "outputs": [],
   "source": [
    "s = Spaceship()\n",
    "s.change_input(\"P1\", True)\n",
    "s.change_input(\"P2\", True)\n",
    "s.change_input(\"V1\", True)\n",
    "s.change_input(\"V2\", True)\n",
    "s.change_input(\"V3\", False)\n",
    "s.change_input(\"V4\", False)\n",
    "s.change_input(\"B1\", True)\n",
    "s.change_input(\"B2\", False)\n",
    "s.all_unknown()\n",
    "\n",
    "#Current observation\n",
    "obs = \"~S1\"\n",
    "\n",
    "s.update_colors()\n",
    "s.plot_spaceship()\n",
    "print(\"Input the components to check for conflict, separated by commas\")\n",
    "a = input()\n",
    "cmps = parse_input(a,s)\n",
    "clear_output()\n",
    "for c in cmps:\n",
    "    s.change_component(c,True)\n",
    "\n",
    "s.plot_spaceship()\n",
    "conflict = s.check_conflicts(obs)\n",
    "print(\"Checking to see if we can find a model, we have determined the presence of conflicts is... %s\"%conflict)"
   ]
  },
  {
   "cell_type": "markdown",
   "metadata": {},
   "source": [
    "\n"
   ]
  },
  {
   "cell_type": "markdown",
   "metadata": {},
   "source": [
    "### Code Snippet 4: Kernel Diagnoses\n",
    "\n",
    "When we have many conflicts, a natural question to ask is what are the smallest number of failures that can explain all conflicts.  Can all be explained by one component failure? A simultaneous failure of two components? More? With as we generate more and more conflicts, we would also like to compactly represent the minimum failures for all previous conflicts.  To do this, we use kernel diagnoses. A kernel diagnosis is the smallest a partial mode assignment to the system, where any full mode assignment that contains the kernel diagnosis removes all known conflicts. In other words, our kernel diagnoses are the minimum set of failures that could explain all conflicts observed to date.\n",
    "\n",
    "The process of generating these kernel diagnoses are shown below. "
   ]
  },
  {
   "cell_type": "code",
   "execution_count": null,
   "metadata": {},
   "outputs": [],
   "source": [
    "def update_kernel_diagnoses(kernel_diagnoses, conflict, printing = False):  # list[set[tuple]], set[tuple]\n",
    "    new_kernel_diagnoses = []\n",
    "    if printing:\n",
    "        print(\"Incorporating the conflict:\")\n",
    "        print_conf(conflict)\n",
    "        \n",
    "    if len(kernel_diagnoses) == 0:    #If we have no current kernel diagnosis, then the conflict becomes the kernel diagnosis\n",
    "        if printing: print(\"with no previous conflicts.\")\n",
    "        for e in conflict:\n",
    "            new_kernel_diagnoses.append(set([(e[0],0)]))\n",
    "    else:\n",
    "        if printing:\n",
    "            print(\"with previous kernel diagnosis \")\n",
    "            print_diag(kernel_diagnoses)\n",
    "        for k in kernel_diagnoses:  #For each kernel diagnosis that we have\n",
    "            for c in conflict:     #And for each component in the conflict\n",
    "                k_new = copy(k)\n",
    "                k_new.add((c[0], 0)) #Create the diagnosis that is the combination of the two\n",
    "                if k_new not in new_kernel_diagnoses: #And if we haven't already\n",
    "                    new_kernel_diagnoses.append(k_new) #Add it to our list of new kernel diagnoses\n",
    "        if printing:\n",
    "            print(\"Combining the two gives all new possible diagnoses\")\n",
    "            print_diag(new_kernel_diagnoses)\n",
    "            print(\"Remove all from this list that are supersets of others to give\")\n",
    "        for i in range(len(new_kernel_diagnoses)): #Iterate through that list\n",
    "            nk = new_kernel_diagnoses.pop(0) #Pull off the first diagnosis\n",
    "            for ok in copy(new_kernel_diagnoses): #Check it against all other diagnosis\n",
    "                if nk.issubset(ok):                #And if the other diagnosis are a subset of it\n",
    "                    new_kernel_diagnoses.remove(ok)  #Remove them from the list\n",
    "            new_kernel_diagnoses.append(nk)          #Then add the one we pulled off back on so it can be checked against others\n",
    "    if printing:\n",
    "        print(\"New kernel diagnosis\")\n",
    "        print_diag(new_kernel_diagnoses)\n",
    "    return new_kernel_diagnoses"
   ]
  },
  {
   "cell_type": "markdown",
   "metadata": {},
   "source": [
    "To demonstrate this algorithm working, let's assume we have a conflict A1 = 1, A2 = 1, X1 = 1"
   ]
  },
  {
   "cell_type": "code",
   "execution_count": null,
   "metadata": {},
   "outputs": [],
   "source": [
    "conflict = set([('A1',1),('A2',1),('X1',1)])\n",
    "kd = update_kernel_diagnoses([], conflict, True)"
   ]
  },
  {
   "cell_type": "markdown",
   "metadata": {},
   "source": [
    "In that case, out kernel diagnosis is any component involved in the conflict. Now let's add a new conflict A1 = 1, A3 = 1, X1 = 1, X2 = 1.  "
   ]
  },
  {
   "cell_type": "code",
   "execution_count": null,
   "metadata": {},
   "outputs": [],
   "source": [
    "conflict = set([('A1',1),('A3',1),('X1',1),('X2',1)])\n",
    "kd = update_kernel_diagnoses(kd, conflict, True)\n"
   ]
  },
  {
   "cell_type": "markdown",
   "metadata": {},
   "source": [
    "We can see that this shows those conflicts could be explained by two single faults, or two double faults. \n",
    "\n",
    "Let's look at this on our spaceship example! We begin with a working spaceship, and an empty kernel diagnosis."
   ]
  },
  {
   "cell_type": "code",
   "execution_count": null,
   "metadata": {},
   "outputs": [],
   "source": [
    "s = Spaceship()\n",
    "s.all_working()\n",
    "kernel_diagnoses = []"
   ]
  },
  {
   "cell_type": "markdown",
   "metadata": {},
   "source": [
    "We set the inputs to a case where we would expect to get thrust, however we don't see any."
   ]
  },
  {
   "cell_type": "code",
   "execution_count": null,
   "metadata": {},
   "outputs": [],
   "source": [
    "s.change_input(\"P1\", True)\n",
    "s.change_input(\"P2\", True)\n",
    "s.change_input(\"V1\", True)\n",
    "s.change_input(\"V2\", True)\n",
    "s.change_input(\"V3\", False)\n",
    "s.change_input(\"V4\", False)\n",
    "s.change_input(\"B1\", True)\n",
    "s.change_input(\"B2\", False)\n",
    "\n",
    "obs = \"~S1\""
   ]
  },
  {
   "cell_type": "code",
   "execution_count": null,
   "metadata": {},
   "outputs": [],
   "source": [
    "s.plot_spaceship()\n",
    "if s.check_conflicts(obs):\n",
    "    print(\"Conflict detected\")\n",
    "    conflict = convert_to_set(s)\n",
    "kernel_diagnoses = update_kernel_diagnoses(kernel_diagnoses,conflict)\n",
    "print(\"New kernel diagnosis:\")\n",
    "print_diag(kernel_diagnoses)"
   ]
  },
  {
   "cell_type": "markdown",
   "metadata": {},
   "source": [
    "This is saying that every component in the system could be broken. That's true, but not very useful.  Consider the case below, which is a more reasonable possible conflict A1,A2,A3,A7,C1,R1. From this we can see that there are six possible components that, in failing, would explain both conflicts."
   ]
  },
  {
   "cell_type": "code",
   "execution_count": null,
   "metadata": {},
   "outputs": [],
   "source": [
    "s.all_unknown()\n",
    "s.update_colors()\n",
    "a = \"A1,A2,A5,A7,C1,R1\"\n",
    "cmps = parse_input(a,s)\n",
    "for c in cmps:\n",
    "    s.change_component(c,True)\n",
    "if s.check_conflicts(obs):\n",
    "    print(\"Conflict detected\")\n",
    "    conflict = convert_to_set(s)\n",
    "kernel_diagnoses = update_kernel_diagnoses(kernel_diagnoses,conflict)\n",
    "s.plot_spaceship()\n",
    "print(\"Current kernel diagnoses:\")\n",
    "print_diag(kernel_diagnoses)"
   ]
  },
  {
   "cell_type": "markdown",
   "metadata": {},
   "source": [
    "To narrow down this list further, we can change some of the system states. Let's suppose we switch over to our secondary thruster, but still don't observe any thrust."
   ]
  },
  {
   "cell_type": "code",
   "execution_count": null,
   "metadata": {},
   "outputs": [],
   "source": [
    "s.change_input(\"P1\", True)\n",
    "s.change_input(\"P2\", True)\n",
    "s.change_input(\"V1\", False)\n",
    "s.change_input(\"V2\", False)\n",
    "s.change_input(\"V3\", True)\n",
    "s.change_input(\"V4\", True)\n",
    "s.change_input(\"B1\", True)\n",
    "s.change_input(\"B2\", False)\n",
    "s.all_unknown()\n",
    "obs = \"~S1\"\n",
    "s.update_colors()\n",
    "a = \"A3,A4,A6,A7,C1,R1\"\n",
    "cmps = parse_input(a,s)\n",
    "for c in cmps:\n",
    "    s.change_component(c,True)\n",
    "clear_output()\n",
    "s.plot_spaceship()\n",
    "if s.check_conflicts(obs):\n",
    "    print(\"Conflict detected\")\n",
    "    conflict = convert_to_set(s)\n",
    "kernel_diagnoses = update_kernel_diagnoses(kernel_diagnoses,conflict)\n",
    "print(\"Current kernel diagnoses\")\n",
    "print_diag(kernel_diagnoses)"
   ]
  },
  {
   "cell_type": "markdown",
   "metadata": {},
   "source": [
    "We can see that we get a larger number of kernel diagnoses, but all are not equally likely.  There are only three that are single failures - C1, R1, and A7.  There are then a larger number of dual failures in the propulsion system.  This intuitively suggests that in this case a sensor failure or battery failure is more likely - clearly probability plays an important role!\n"
   ]
  },
  {
   "cell_type": "markdown",
   "metadata": {},
   "source": [
    "If we assume a set of known failure probabilities for the components, we can rank the kernel diagnoses from most to least likely. One possible set is shown below. In this case, P(G) is read from the list and P(U) is 1-P(G). \n",
    "\n",
    "$P(X) = \\prod_{X_i\\in X}P(X_i)$"
   ]
  },
  {
   "cell_type": "code",
   "execution_count": null,
   "metadata": {},
   "outputs": [],
   "source": [
    "ship_component_reliability = {\"A1\":.9, \"A2\":.9, \"A3\":.9, \"A4\":.9, \n",
    "                              \"A5\":.7, \"A6\":.7, \n",
    "                              \"A7\":.99, \n",
    "                              \"R1\":.95, \"C1\":.9, \"C2\":.8}"
   ]
  },
  {
   "cell_type": "code",
   "execution_count": null,
   "metadata": {},
   "outputs": [],
   "source": [
    "from operator import itemgetter\n",
    "\n",
    "P_list = []\n",
    "for kd in kernel_diagnoses:\n",
    "    failed_comp = [d[0] for d in kd]\n",
    "    \n",
    "    P = 1.\n",
    "    for comp in ship_component_reliability:\n",
    "        if comp in failed_comp:\n",
    "            P *= (1.-ship_component_reliability[comp])\n",
    "        else:\n",
    "            P *= (ship_component_reliability[comp])\n",
    "    P_list.append((P,kd))\n",
    "\n",
    "for i in sorted(P_list,key = itemgetter(0), reverse=True):\n",
    "    fc = [d[0] for d in i[1]]\n",
    "    print(\"Probability %s failed: %4.4f\"%(\",\".join(fc),i[0]))\n"
   ]
  },
  {
   "cell_type": "markdown",
   "metadata": {},
   "source": [
    "We can see that, in the case where our engines are fairly unreliable (A3 and A7 only have a 70% chance of working), it's actually more likely that both of them failed than for there to have been a problem in the power supply.  \n",
    "\n",
    "This method can be extended to include more than just the Good and Unknown states.  With information about the probabilities of specific failure modes, you could use the methods above to check the consistency of the system and make more informed estimates.\n",
    "\n",
    "Try running the code below for different inputs, observations, and conflicts, and watch how the kernel diagnoses change as more information is provided. "
   ]
  },
  {
   "cell_type": "code",
   "execution_count": null,
   "metadata": {},
   "outputs": [],
   "source": [
    "s.change_input(\"P1\", True)\n",
    "s.change_input(\"P2\", True)\n",
    "s.change_input(\"V1\", False)\n",
    "s.change_input(\"V2\", False)\n",
    "s.change_input(\"V3\", True)\n",
    "s.change_input(\"V4\", True)\n",
    "s.change_input(\"B1\", True)\n",
    "s.change_input(\"B2\", False)\n",
    "s.all_unknown()\n",
    "obs = \"~S1\"\n",
    "s.plot_spaceship()\n",
    "s.update_colors()\n",
    "a = input()\n",
    "cmps = parse_input(a,s)\n",
    "for c in cmps:\n",
    "    s.change_component(c,True)\n",
    "clear_output()\n",
    "s.plot_spaceship()\n",
    "if s.check_conflicts(obs):\n",
    "    print(\"Conflict detected\")\n",
    "    conflict = convert_to_set(s)\n",
    "kernel_diagnoses = update_kernel_diagnoses(kernel_diagnoses,conflict)\n",
    "print(\"Current kernel diagnoses\")\n",
    "print_diag(kernel_diagnoses)"
   ]
  },
  {
   "cell_type": "markdown",
   "metadata": {},
   "source": [
    "### Code Snippet 5: Probabilistic Mode Estimation\n",
    "\n",
    "Probabalistic Mode Estimation or Mode Identification utilizing probabilistic inference's goal is to determine the most likely state of the components in the system. From our large set of kernel diagnoses, we want to pick the most likely failures.  \n",
    "\n",
    "Let's say you got a fancy new boolean logic AND gate. Unfortunately, when you apply two True voltages to the inputs, the output is **zero**! What a scam you say, the component is totally bunk! \n",
    "\n",
    "Similarly, you bought your very own resistor network as found in lecture, and one of the outputs is wrong! Any of it or the components that lead to it could be *bogus*, you pontificate!\n",
    "\n",
    "\n",
    "In general, the insights you form as diagnoses from symptoms improve the process of Mode Identification (finding resolutions)."
   ]
  },
  {
   "cell_type": "code",
   "execution_count": null,
   "metadata": {},
   "outputs": [],
   "source": [
    "print(\"You might remember this network from the lecture slides!\")\n",
    "\n",
    "ands = \"(A1 ==> ((A & C) <=> X)) & (A2 ==> ((B & D) <=> Y)) & (A3 ==> ((C & E) <=> Z))\"\n",
    "xors = \"(X1 ==> (((X & ~Y) | (~X & Y)) <=> F)) & (X2 ==> (((Y & ~Z) | (~Y & Z)) <=> G))\"\n",
    "inputs = \"A & B & C & ~D & E\"\n",
    "outputs = \"~F & G\" #~F is our identified symptom!\n",
    "components = \"A1 & A2 & A3 & X1 & X2\"\n",
    "# Todo: due to a bug in the cnf routine, we have to cnf a few times...\n",
    "formula = AND.from_string_to_cnf(str(to_cnf(to_cnf(\"&\".join([ands, xors, inputs, outputs, components])))))\n",
    "\n",
    "print(\"Even this formula is very complicated: \" + str(formula))\n",
    "solution = DPLL(formula).solve()\n",
    "print(\"But notice what it says about a solution when all the components are asserted good. There's: \" + str(solution))"
   ]
  },
  {
   "cell_type": "markdown",
   "metadata": {},
   "source": [
    "Given the following components and failures, we'd like to be able to walk through the possible resolutions in probability order."
   ]
  },
  {
   "cell_type": "code",
   "execution_count": null,
   "metadata": {},
   "outputs": [],
   "source": [
    "class_kernel_diagnoses = [[('A2', 0), ('A3', 0)], [('A2', 0), ('X2', 0)], [('A1', 0)], [('X1', 0)]]\n",
    "class_possible_faults = {\"A1\": .99, \"A2\": .9, \"A3\": .99, \"X1\": .8, \"X2\": .8} # (Name, Probability it *works*)\n",
    "class_components_order: [(str, float)] = list(class_possible_faults.items())"
   ]
  },
  {
   "cell_type": "code",
   "execution_count": null,
   "metadata": {},
   "outputs": [],
   "source": [
    "# Inputs: possible_faults: prior probabilities of component failures\n",
    "#         kernel_diagnoses: minimal combinations of conflicting components that explain the conflicts\n",
    "#                           CAN be updated during the iteration process  \n",
    "#         components_order: the order to traverse the varaibles, (components, probability) tuples\n",
    "# Procedure: Perform constraint-based A*\n",
    "# Returns: A Generator for constraint-based A*, each iteration it performs a little more work to get the next \n",
    "#          possible resolution.\n",
    "def constraint_a_star(possible_faults: dict, kernel_diagnoses: set, components_order: [(str, float)]) -> Iterable:\n",
    "    max_queue: [(float, AStarNode)] = []\n",
    "    tree = AStarNode(None, None, None, parent=None)\n",
    "    tree.construct_tree(components_order)\n",
    "    max_queue.append((0, tree))\n",
    "\n",
    "    # Every conflict must be represented by one of the components marked failed in this resolution.\n",
    "    # Kernel diagnostics encapsulates what it means to represent each conflict.\n",
    "    # So to avoid an A* trim, we must be able to contain all the elements of at least one kernel diagnostic.\n",
    "    def satisfies_a_kernel(tree):\n",
    "        # make sure that the marked-failed *union* the not-yet assigned contain at least one kernel diagnostic\n",
    "        assignments = tree.assignments\n",
    "        assigned_variables = set([assignment[0] for assignment in assignments])\n",
    "        unassigned_variables = set(possible_faults.keys()).difference(assigned_variables)\n",
    "        faulty_variables = set([assignment[0] for assignment in assignments if assignment[1] is False])\n",
    "        kernel_friendly_variables = unassigned_variables.union(faulty_variables)\n",
    "\n",
    "        for kernel in kernel_diagnoses:\n",
    "            if kernel_friendly_variables.issuperset(set([component[0] for component in kernel])):\n",
    "                return True\n",
    "        return False\n",
    "\n",
    "    while len(max_queue) > 0:\n",
    "        max_index = max(range(len(max_queue)), key=lambda i: max_queue[i][0])\n",
    "        max_tree: AStarNode = max_queue.pop(max_index)[1]\n",
    "\n",
    "        if max_tree.is_trimmed:\n",
    "            continue\n",
    "        elif not satisfies_a_kernel(max_tree):\n",
    "            max_tree.set_trimmed(True)\n",
    "            continue\n",
    "        elif len(max_tree.children) == 0: # and satisfies a kernel\n",
    "            yield max_tree\n",
    "            continue\n",
    "\n",
    "        left_child = max_tree.children[0]\n",
    "        right_child = max_tree.children[1]\n",
    "\n",
    "        max_queue.append((left_child.total_cost, left_child))\n",
    "        max_queue.append((right_child.total_cost, right_child))"
   ]
  },
  {
   "cell_type": "code",
   "execution_count": null,
   "metadata": {},
   "outputs": [],
   "source": [
    "i = 10\n",
    "for tree_node in constraint_a_star(class_possible_faults, class_kernel_diagnoses, class_components_order):\n",
    "    i = i -1\n",
    "    if i is 0: break\n",
    "    print(str(tree_node.resolution) + \". Probability: \" + str(tree_node.total_cost))"
   ]
  },
  {
   "cell_type": "markdown",
   "metadata": {},
   "source": [
    "Wow, it's a lot to print all of these-- but above you can see *the first 10* of the possible resolutions. The **cool** thing about the `constraint_a_star` code is that it is something called a _generator_, it only searches the tree as much as you need it to. `:-)`\n",
    "\n",
    "The resolution with only **X1** failing is far more likely than the others! Hopefully it will satisfy the constraints!"
   ]
  },
  {
   "cell_type": "code",
   "execution_count": null,
   "metadata": {},
   "outputs": [],
   "source": [
    "tree_node = next(constraint_a_star(class_possible_faults, class_kernel_diagnoses, class_components_order))\n",
    "components = tree_node.assignments_string\n",
    "formula = AND.from_string_to_cnf(str(to_cnf(to_cnf(\"&\".join([ands, xors, inputs, outputs, components])))))\n",
    "formula = DPLL(formula).solve()\n",
    "print(\"But does it satisfy?: \" + str(formula.is_satisfied))\n",
    "print(\"It's a hairball, but at now we have satisfaction!!: \" + str(formula))"
   ]
  },
  {
   "cell_type": "markdown",
   "metadata": {},
   "source": [
    "In conflict directed search, you would start by taking the first resolution, checking it, then updating the kernel diagnoses and getting the next most probable resolution. That's what we'll show you now!"
   ]
  },
  {
   "cell_type": "markdown",
   "metadata": {},
   "source": [
    "### Conflict-Directed Search\n",
    "\n",
    "Goal is to find a resolution that is a model for the symptomatic behavior you're finding. We'll show you an example using the **BOOLEAN SPACESHIP**†. Here's how it all ties together for conflict directed A*\n",
    "\n",
    "1. Unit propagation is used to propagate truths\n",
    "2. DPLL finds models where they exist\n",
    "3. Conflict checking lets you decide on diagnoses\n",
    "4. Kernel diagnoses combine the diagnoses to optomize mode estimation\n",
    "5. Mode estimation used kernel diagnoses to trim the search space and yeielded the most probable resolution\n",
    "6. Conflict-directed Search determines you have the correct resolution by updating kernel diagnoses where necessary"
   ]
  },
  {
   "cell_type": "code",
   "execution_count": null,
   "metadata": {},
   "outputs": [],
   "source": [
    "ship_formula = AND.from_string_to_cnf(str(to_cnf(to_cnf(\"&\".join(Spaceship().create_system())))))"
   ]
  },
  {
   "cell_type": "markdown",
   "metadata": {},
   "source": [
    "You'll need a system of telling you where you have conflicts, something that knows your inputs and expected outputs, and takes your component configurations to perform the tests."
   ]
  },
  {
   "cell_type": "code",
   "execution_count": null,
   "metadata": {},
   "outputs": [],
   "source": [
    "# Input: Configuration of components in standard form e.g. [(A1, 0),...]\n",
    "# Output: A set of lists of conflicts related to each symptom\n",
    "def blackbox_check_conflicts_spaceship(configuration: [(str, int)]) -> {tuple((str, int))}:\n",
    "        s = Spaceship()\n",
    "        #for c in configuration:\n",
    "        #    s.change_component(c[0],not c[1])\n",
    "        s.all_off()  \n",
    "        s.change_input(\"P1\", True)\n",
    "        s.change_input(\"P2\", True)\n",
    "        s.change_input(\"V3\", True)\n",
    "        s.change_input(\"V4\", True)\n",
    "        s.change_input(\"B1\", True)\n",
    "        s.change_input(\"B2\", False)\n",
    "        repeat = True\n",
    "        while repeat:\n",
    "            s.all_unknown()\n",
    "            s.plot_spaceship()\n",
    "            print(\"Enter observation (e.g. S1, ~T1): \")\n",
    "            obs = input()\n",
    "\n",
    "            print(\"Enter inputs to flip, separated by commas (e.g. P1,P2,V1):\")\n",
    "            inp = input()\n",
    "            n_inp = parse_input(inp,s)\n",
    "            try:\n",
    "                for i in n_inp:\n",
    "                    cs = s.inputs[i]._assignment\n",
    "                    s.change_input(i,not cs)\n",
    "            except:\n",
    "                pass\n",
    "            clear_output()\n",
    "            print(\"Observation: %s\"%obs)\n",
    "            s.plot_spaceship()\n",
    "            \n",
    "            print(\"Enter components to check for conflict, separated by commas (e.g. A1,A2,A3):\")\n",
    "            a = input()\n",
    "            cmps = parse_input(a,s)\n",
    "            try:\n",
    "                for c in cmps:\n",
    "                    s.change_component(c,True)\n",
    "            except:\n",
    "                pass\n",
    "            clear_output()\n",
    "            s.plot_spaceship()\n",
    "            try:\n",
    "                has_conflict = s.check_conflicts(obs)\n",
    "            except:\n",
    "                has_conflict = False\n",
    "            if has_conflict:\n",
    "                print(\"Conflict detected\")\n",
    "                conflict = convert_to_set(s)\n",
    "                return conflict\n",
    "            else:\n",
    "                print(\"No conflict observed; repeat? (y/n)\")\n",
    "                rpt = input()\n",
    "                if \"n\" in rpt:\n",
    "                    repeat = False\n",
    "                    return set([])"
   ]
  },
  {
   "cell_type": "code",
   "execution_count": null,
   "metadata": {},
   "outputs": [],
   "source": [
    "# Yields a set of component configurations that is a model for the blackbox's reported symptoms\n",
    "# Inputs:\n",
    "#        blackbox_function: the black box checker,\n",
    "#        formula: your system formula\n",
    "#        probabilities: the probabilities of each component failure (a-priori)\n",
    "# Output: the component configurations that pass the black box test! In standard form..\n",
    "def conflict_directed_a_star(blackbox_function, formula, probabilities) -> [(str, int)]:\n",
    "    kernel_diagnoses = list()\n",
    "    class_components_order = list(probabilities.items())\n",
    "    for tree_node in constraint_a_star(class_possible_faults, class_kernel_diagnoses, class_components_order):\n",
    "        conflicts = blackbox_function(tree_node.resolution)\n",
    "        if len(conflicts) == 0:\n",
    "            print(\"Yarr space pirates be darned.. We found a model!\")\n",
    "            return tree_node.resolution\n",
    "        else:\n",
    "            new_diagnoses = update_kernel_diagnoses(kernel_diagnoses, conflicts)\n",
    "            kernel_diagnoses.clear()\n",
    "            kernel_diagnoses.extend(new_diagnoses)\n",
    "            print(\"Rats, conflicts.. we've updated the kernel!\")\n",
    "\n",
    "    print(\"If we got here, we couldn't satisfy the black_box... Some people are just impossible to please!\")\n",
    "    return None"
   ]
  },
  {
   "cell_type": "code",
   "execution_count": null,
   "metadata": {},
   "outputs": [],
   "source": [
    "print(\"Let's fire up the thrusters!\")\n",
    "print(\"There's a problem with the thrusters (Obviously)! We gotta figure out what's wrong.\")\n",
    "configuration = conflict_directed_a_star(blackbox_check_conflicts_spaceship, ship_formula, ship_component_reliability)\n",
    "print(\"Nice!!! Here's the valid model!: \" + str(configuration))\n",
    "print(\"We figured out what's wrong! Now we can just use DPLL to see if we have a backup system to get us going!\")\n",
    "print(\"Stay tuned next week, when the boolean space voyagers use DPLL and fire their thrusters...\")"
   ]
  },
  {
   "cell_type": "markdown",
   "metadata": {},
   "source": [
    "## That's all, folks!\n",
    "\n",
    "Now you've seen how Unit Propagation through Conflict-directed search help you identify the mode of your system and hence let you determine alternate means of sending your boolean spaceship across the universe!"
   ]
  },
  {
   "cell_type": "markdown",
   "metadata": {},
   "source": [
    "†: n.b. **boolean spaceship slogan**: _\"To 0, and beyond!\"_"
   ]
  },
  {
   "cell_type": "code",
   "execution_count": null,
   "metadata": {},
   "outputs": [],
   "source": []
  }
 ],
 "metadata": {
  "kernelspec": {
   "display_name": "Python 3",
   "language": "python",
   "name": "python3"
  },
  "language_info": {
   "codemirror_mode": {
    "name": "ipython",
    "version": 3
   },
   "file_extension": ".py",
   "mimetype": "text/x-python",
   "name": "python",
   "nbconvert_exporter": "python",
   "pygments_lexer": "ipython3",
   "version": "3.7.1"
  }
 },
 "nbformat": 4,
 "nbformat_minor": 2
}
