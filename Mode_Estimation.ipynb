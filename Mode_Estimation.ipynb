{
 "cells": [
  {
   "cell_type": "code",
   "execution_count": null,
   "metadata": {},
   "outputs": [],
   "source": [
    "#Python3(3.6) Notebook\n",
    "# Please begin by running this cell\n",
    "from classes import *"
   ]
  },
  {
   "cell_type": "markdown",
   "metadata": {},
   "source": [
    "### Note on determining conflcits\n",
    "\n",
    "Determining a minimal set of componenents involved in a conflict is, in general, NP-hard. Heuristics are often used, for instance in circuits, upstream components is often one heuristic. All components in the system is another (less useful) heuristic. Probabilistic mode estimation uses conflicts in order to generate the best possible guess about the health of all the components, if conflicts aren't particularly minimal (in the worst case, if they involve all components) Probabilistic Mode Estimation will only enumerate the failure space in a-priori failure probability order. So, it's not wrong to poorly minimize conflicts, it just makes probabilistic mode estimation perform poorly.   "
   ]
  },
  {
   "cell_type": "markdown",
   "metadata": {},
   "source": [
    "## Probabilistic Mode Estimation\n",
    "\n",
    "Probabalistic Mode Estimation or Mode Identification utilizing probabilistic inference's goal is to determine the state of the components in the system. \n",
    "\n",
    "One option, as always, is that all the components are operating correctly, but when there are discrepencies, heursitics can yield sets of components that could be at fault in the system. Mode Estimation then will give a probabilistically ordered list of configurations that your system could be in, instead. \n",
    "\n",
    "One way to perform this operation is constraint-based A*. \n",
    "\n",
    "The below tree visualization shows how the conflicts act to trim the search tree from paths that don't contain at least one of the conflicts. At each level of the tree is a decision to assign one of the components.\n",
    "\n",
    "**Trim paths whose unknowns aren't present in at least one of the conflicts, or aren't present in all of the conflicts? That would depend on the means of generating conflicts. You might need to pre-process with a kernel diagnoses tool if you want to put more than one conflict through, though if it's _Trim paths whose unknowns aren't present in at least one of the conflicts_, you're probably fine and save computation time anyway.** _That said, each mode identification should include all the components that could be failed, so you'd want every conflict to be represented by one of the components marked failed in the identifcation, and trim once it became clear your choice of components wasn't going to satisfy one of the constraints (remaining assignments not in conflicts)._\n",
    "\n",
    "The output of probabilistic mode estimation is a enumerable set of component assignments. "
   ]
  },
  {
   "cell_type": "markdown",
   "metadata": {},
   "source": [
    "Let's say you got a fancy new boolean logic AND gate. Unfortunately, when you apply two True voltages to the inputs, the output is **zero**! What a scam you say, the component is totally bunk! \n",
    "\n",
    "Similarly, you bought your very own resistor network as found in lecture, and one of the outputs is wrong! Any of it or the components that lead to it could be *bogus*, you pontificate!\n",
    "\n",
    "- **Symptom**: The discrepency between the value you expect and the value you find.\n",
    "- **Conflict**: The set of components that are involved in a symptom. Generally found using heuristics.\n",
    "  If you remove all constraints related to these components, the problem goes away (but so does your circuit!)\n",
    "- **Diagnoses**: Colloqually used interchangably with conflicts, but has a more optomistic sense-- they're used to find \"resolutions.\" \n",
    "- **Kernel diagnoses**: If you have multiple diagnoses, you can find all minimal combinations of conflicting components that explain your data. They're helpful because the act as a (good!) huersitic for determining resolutions. \n",
    "- **Resolution**: A bold claim that these are the components that have failed in your system. **May or may not be accurate!** You have to run DPLL to find out on your own system.  \n",
    "  Usually you'll want to iterate through your resolutions in probability order, given a prior probability of component failure.\n",
    "- **Component**: Well, you know, the parts the circuit is made of.\n",
    "- **Mode**: The status of an individual component, as in \"Mode Identification\"\n",
    "- **Model**: The truth values assigned to the propositions in a logic sentence evaluating to True.\n",
    "\n",
    "In general, the insights you form as diagnoses from symptoms improve the process of Mode Identification (finding resolutions)."
   ]
  },
  {
   "cell_type": "code",
   "execution_count": null,
   "metadata": {},
   "outputs": [],
   "source": [
    "ands = \"((A1 & A & C) ==> X) & ((A2 & B & D) ==> Y) & ((A3 & C & E) ==> Z)\"\n",
    "xors = \"((X1 & ((X & ~Y) | (~X & Y))) ==> F) & ((X2 & ((Y & ~Z) | (~Y & Z))) ==> G)\"\n",
    "inputs = \"A & B & C & ~D & E\"\n",
    "outputs = \"~F & G\" #~F is our identified symptom!\n",
    "AND.from_string_to_cnf(\"&\".join([ands, xors, inputs, outputs])).print()\n",
    "print(\"You might remember this network from the lecture slides!\")"
   ]
  },
  {
   "cell_type": "markdown",
   "metadata": {},
   "source": [
    "Given the following components and failures, we'd like to be able to walk through the possible resolutions in probability order."
   ]
  },
  {
   "cell_type": "code",
   "execution_count": null,
   "metadata": {},
   "outputs": [],
   "source": [
    "class_kernel_diagnoses = [[('A2', 0), ('A3', 0)], [('A2', 0), ('X2', 0)], [('A1', 0)], [('X1', 0)]]\n",
    "class_possible_faults = {\"A1\": .99, \"A2\": .9, \"A3\": .99, \"X1\": .8, \"X2\": .8} # (Name, Probability it *works*)\n",
    "class_components_order: [(str, float)] = list(class_possible_faults.items())"
   ]
  },
  {
   "cell_type": "code",
   "execution_count": null,
   "metadata": {},
   "outputs": [],
   "source": [
    "from collections import Iterable\n",
    "\n",
    "# Inputs: possible_faults: prior probabilities of component failures\n",
    "#         kernel_diagnoses: minimal combinations of conflicting components that explain the conflicts\n",
    "#         components_order: the order to traverse the varaibles \n",
    "# Procedure: Perform constraint-based A*\n",
    "def get_most_likely_a_star(possible_faults: dict, kernel_diagnoses, components_order: list) -> Iterable:\n",
    "    max_queue: [(float, AStarNode)] = []\n",
    "    tree = AStarNode(None, None, None, parent=None)\n",
    "    tree.construct_tree(components_order)\n",
    "    max_queue.append((0, tree))\n",
    "\n",
    "    # Every conflict must be represented by one of the components marked failed in this resolution.\n",
    "    # Kernel diagnostics encapsulates what it means to represent each conflict.\n",
    "    # So to avoid an A* trim, we must be able to contain all the elements of at least one kernel diagnostic.\n",
    "    def satisfies_a_kernel(tree):\n",
    "        # make sure that the marked-failed *union* the not-yet assigned contain at least one kernel diagnostic\n",
    "        assignments = tree.assignments\n",
    "        assigned_variables = set([assignment[0] for assignment in assignments])\n",
    "        unassigned_variables = set(possible_faults.keys()).difference(assigned_variables)\n",
    "        faulty_variables = set([assignment[0] for assignment in assignments if assignment[1] is False])\n",
    "        kernel_friendly_variables = unassigned_variables.union(faulty_variables)\n",
    "\n",
    "        for kernel in kernel_diagnoses:\n",
    "            if kernel_friendly_variables.issuperset(set([component[0] for component in kernel])):\n",
    "                return True\n",
    "        return False\n",
    "\n",
    "    while len(max_queue) > 0:\n",
    "        max_index = max(range(len(max_queue)), key=lambda i: max_queue[i][0])\n",
    "        max_tree: AStarNode = max_queue.pop(max_index)[1]\n",
    "\n",
    "        if max_tree.is_trimmed:\n",
    "            continue\n",
    "        elif not satisfies_a_kernel(max_tree):\n",
    "            max_tree.set_trimmed(True)\n",
    "            continue\n",
    "        elif len(max_tree.children) == 0: # and satisfies a kernel\n",
    "            yield max_tree\n",
    "            continue\n",
    "\n",
    "        left_child = max_tree.children[0]\n",
    "        right_child = max_tree.children[1]\n",
    "\n",
    "        max_queue.append((left_child.total_cost, left_child))\n",
    "        max_queue.append((right_child.total_cost, right_child))"
   ]
  },
  {
   "cell_type": "code",
   "execution_count": null,
   "metadata": {},
   "outputs": [],
   "source": [
    "for tree_node in get_most_likely_a_star(class_possible_faults, class_kernel_diagnoses, class_components_order):\n",
    "    print(str(tree_node.assignments) + \". Probability: \" + str(tree_node.total_cost))"
   ]
  },
  {
   "cell_type": "markdown",
   "metadata": {},
   "source": [
    "Above you'd see all the possible resolutions. The resolution with only **X1** failing is far more likely than the others!"
   ]
  },
  {
   "cell_type": "code",
   "execution_count": null,
   "metadata": {},
   "outputs": [],
   "source": []
  }
 ],
 "metadata": {
  "kernelspec": {
   "display_name": "Python 3",
   "language": "python",
   "name": "python3"
  },
  "language_info": {
   "codemirror_mode": {
    "name": "ipython",
    "version": 3
   },
   "file_extension": ".py",
   "mimetype": "text/x-python",
   "name": "python",
   "nbconvert_exporter": "python",
   "pygments_lexer": "ipython3",
   "version": "3.6.3"
  }
 },
 "nbformat": 4,
 "nbformat_minor": 2
}
